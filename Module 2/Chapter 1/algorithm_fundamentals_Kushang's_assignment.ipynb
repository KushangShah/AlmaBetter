{
  "nbformat": 4,
  "nbformat_minor": 0,
  "metadata": {
    "colab": {
      "provenance": [],
      "name": "algorithm-fundamentals_Kushang's_assignment.ipynb"
    },
    "kernelspec": {
      "name": "python3",
      "display_name": "Python 3"
    },
    "language_info": {
      "name": "python"
    }
  },
  "cells": [
    {
      "cell_type": "markdown",
      "source": [
        "## 🎉 Hi there! Welcome to today's assignment on Algorithm Fundamentals in Python!\n",
        "\n",
        "Are you ready to put your skills to the test? Let's dive right in! 💪📚\n",
        "\n",
        "In this assignment, you will be working with searching and sorting algorithms in Python. Don't worry if you're feeling a bit unsure - you got this! 🤞\n",
        "\n",
        "Good luck! 🍀🚀"
      ],
      "metadata": {
        "id": "-_cL2yDYQnR-"
      }
    },
    {
      "cell_type": "markdown",
      "source": [
        "## **Activity 1:** "
      ],
      "metadata": {
        "id": "NQ2q--07qc2L"
      }
    },
    {
      "cell_type": "markdown",
      "source": [
        "### **Linear Search Game** 🔍 🔍\n",
        "\n",
        "👉 **Instructions:**\n",
        "\n",
        "1. The objective of the game is to guess a randomly generated number between 1 and 100 using the linear search algorithm.\n",
        "2. The game will provide feedback after each guess to help you narrow down your search.\n",
        "3. You have a maximum of 7 attempts to guess the number.\n",
        "4. Each time you make a guess, the game will tell you if the number is higher or lower than your guess.\n",
        "\n",
        "Additionally, find the time and space complexity of the code you have developed."
      ],
      "metadata": {
        "id": "QKVinKYeAB1I"
      }
    },
    {
      "cell_type": "markdown",
      "source": [
        "![search.png](data:image/png;base64,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)"
      ],
      "metadata": {
        "id": "YC6oJanv1me2"
      }
    },
    {
      "cell_type": "code",
      "source": [
        "# Write your code here\n",
        "# Write your code here\n",
        "\n",
        "#Import random to guess the number(1 - 100).\n",
        "import random as rd\n",
        "\n",
        "#def a function\n",
        "def linear_search_game():\n",
        "    \n",
        "    guess_number = rd.randint(1, 100)\n",
        "    attempts = 0\n",
        "    \n",
        "    # User has 7 attempts\n",
        "    while attempts < 7:\n",
        "        \n",
        "        # let user guess\n",
        "        guess = int(input(\"Guess A Number (1 - 100): \"))\n",
        "        \n",
        "        # if user enter near the guess_number\n",
        "        if guess < guess_number:\n",
        "            print(f\"You Need To GUESS 'Higher' Number {chr(129760)}\")\n",
        "        else:\n",
        "            print(f\"You Need To GUESS 'Lower' Number {chr(128517)}\")\n",
        "            \n",
        "        # if user guess it correct!\n",
        "        if guess == guess_number:\n",
        "            print(f\"{chr(129327)}\")\n",
        "            print(f\"Congo.{chr(129395)}, YOU WIN.\")\n",
        "            print(f\"You Guess The Right Number.\")\n",
        "            \n",
        "        attempts += 1\n",
        "        \n",
        "    \n",
        "    # if user lose\n",
        "    print(chr(129315))\n",
        "    print(\"GAME OVER !\")\n",
        "    print(f\"TATA BY-BY {chr(128075)}\")\n",
        "    print(f\"The Number Was {guess_number}\")\n",
        "    "
      ],
      "metadata": {
        "id": "fPBctNJRwqGG"
      },
      "execution_count": null,
      "outputs": []
    },
    {
      "cell_type": "code",
      "source": [
        "print(linear_search_game())"
      ],
      "metadata": {
        "colab": {
          "base_uri": "https://localhost:8080/"
        },
        "id": "pi9Sy1NwJCXv",
        "outputId": "fe5e72be-9cfe-4592-a7be-1cbc20f81125"
      },
      "execution_count": null,
      "outputs": [
        {
          "output_type": "stream",
          "name": "stdout",
          "text": [
            "Guess A Number (1 - 100): 55\n",
            "You Need To GUESS 'Lower' Number 😅\n",
            "Guess A Number (1 - 100): 45\n",
            "You Need To GUESS 'Lower' Number 😅\n",
            "Guess A Number (1 - 100): 25\n",
            "You Need To GUESS 'Higher' Number 🫠\n",
            "Guess A Number (1 - 100): 35\n",
            "You Need To GUESS 'Lower' Number 😅\n",
            "Guess A Number (1 - 100): 27\n",
            "You Need To GUESS 'Higher' Number 🫠\n",
            "Guess A Number (1 - 100): 30\n",
            "You Need To GUESS 'Higher' Number 🫠\n",
            "Guess A Number (1 - 100): 31\n",
            "You Need To GUESS 'Higher' Number 🫠\n",
            "🤣\n",
            "GAME OVER !\n",
            "TATA BY-BY 👋\n",
            "The Number Was 33\n",
            "None\n"
          ]
        }
      ]
    },
    {
      "cell_type": "markdown",
      "source": [
        "## **Activity 2:** "
      ],
      "metadata": {
        "id": "2l3-lGWT3Cox"
      }
    },
    {
      "cell_type": "markdown",
      "source": [
        "### **Linear Search Operations**\n",
        "\n",
        "You have a list of n integers. You need to find the index of the first occurrence of a given integer k in the list using linear search. If the integer is not present in the list, return -1.\n",
        "\n",
        "For example, if the list is [2, 5, 8, 4, 6, 2, 9] and k is 2, the function should return 0. If k is 7, the function should return -1.\n",
        "\n",
        "\n",
        "Additionally, find the time and space complexity of the code you have developed."
      ],
      "metadata": {
        "id": "WZ6NpA_TAn4Q"
      }
    },
    {
      "cell_type": "markdown",
      "source": [
        "![employee-selection.png](data:image/png;base64,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)"
      ],
      "metadata": {
        "id": "aubmnpXY8xM1"
      }
    },
    {
      "cell_type": "code",
      "source": [
        "# Write your code here\n",
        "\n",
        "# Write your code here\n",
        "\n",
        "def linear_search(lst, target):\n",
        "    index = -1\n",
        "\n",
        "    for i in range(len(lst)):\n",
        "        if lst[i] == target:\n",
        "            index = i\n",
        "            break\n",
        "\n",
        "    return index\n"
      ],
      "metadata": {
        "id": "RbByXj5SwwAo"
      },
      "execution_count": null,
      "outputs": []
    },
    {
      "cell_type": "code",
      "source": [
        "# Example usage:\n",
        "lst = [5, 2, 8, 12, 7]\n",
        "target = 2\n",
        "result = linear_search(lst, target)\n",
        "if result == -1:\n",
        "    print(\"Target value not found in list.\")\n",
        "else:\n",
        "    print(f\"Target value found at index {result}.\")"
      ],
      "metadata": {
        "id": "Q-Gmdw6yE8Cw",
        "colab": {
          "base_uri": "https://localhost:8080/"
        },
        "outputId": "3c971b7e-e0fc-4466-ea75-4d6a66a4f885"
      },
      "execution_count": null,
      "outputs": [
        {
          "output_type": "stream",
          "name": "stdout",
          "text": [
            "Target value found at index 1.\n"
          ]
        }
      ]
    },
    {
      "cell_type": "markdown",
      "source": [
        "👉 **Instructions:**\n",
        "\n",
        "1. Create a function to perform the linear search. The function should take two arguments - the element to be searched and the list in which the search is to be performed.\n",
        "\n",
        "2. Initialize a variable called index to -1, which will be used to store the index of the element if it is found in the list.\n",
        "\n",
        "3. Use a for loop to iterate through each element in the list. Inside the loop, compare the current element with the element to be searched. If they match, set the value of index to the index of the current element and break out of the loop.\n",
        "\n",
        "4. After the loop has completed, return the value of index. If the element was not found in the list, the value of index will still be -1.\n",
        "\n",
        "5. Call the function with the element to be searched and the list as arguments.\n",
        "\n",
        "6. Print the value returned by the function to display the index of the element in the list."
      ],
      "metadata": {
        "id": "jSsHa1kI6YBb"
      }
    },
    {
      "cell_type": "markdown",
      "source": [
        "## **Activity 3:** \n",
        "\n"
      ],
      "metadata": {
        "id": "c9fdc3xt2SEM"
      }
    },
    {
      "cell_type": "markdown",
      "source": [
        "### **Bubble Sort**\n",
        "\n",
        "Suppose you are given a list of integers representing the daily closing prices of a stock for the past year. Your task is to sort the prices in ascending order using the bubble sort algorithm.\n",
        "\n",
        "Write a Python program that takes a list of integers as input and uses bubble sort to sort the list in ascending order. The program should output the sorted list to the console, and also print the number of swaps and comparisons performed during the sorting process.\n",
        "\n",
        "Assume that the input list contains at least two integers and no more than 1000 integers. You can assume that the integers in the list are distinct and within the range of 0 to 10000.\n",
        "\n",
        "\n",
        "Additionally, find the time and space complexity of the code you have developed."
      ],
      "metadata": {
        "id": "kjZ0mfMuAvyw"
      }
    },
    {
      "cell_type": "markdown",
      "source": [
        "![sort.png](data:image/png;base64,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)"
      ],
      "metadata": {
        "id": "g6vE5UaY9KtE"
      }
    },
    {
      "cell_type": "code",
      "source": [
        "# Write your code here\n",
        "\n",
        "# Write your code here\n",
        "\n",
        "#def function \n",
        "def bubble_sort(lst):\n",
        "    n = len(lst)\n",
        "    \n",
        "    # create a variable to \n",
        "    change_value = 0\n",
        "    check_value = 0\n",
        "\n",
        "\n",
        "    for i in range(n - 1):\n",
        "        for j in range(n - i - 1):\n",
        "            check_value += 1\n",
        "\n",
        "            if lst[j] > lst[j + 1]:\n",
        "                lst[j], lst[j + 1] = lst[j + 1], lst[j]\n",
        "                change_value += 1\n",
        "                \n",
        "\n",
        "    print(\"Sorted list:\", lst)\n",
        "    print(\"The Number of time the numbers change.\", change_value)\n",
        "    print(\"the number of time value get checked is: \", check_value)\n",
        "\n",
        "\n",
        "\n",
        "#Output\n",
        "prices = [100, 80, 120, 90, 130, 70]\n",
        "bubble_sort(prices)\n",
        "\n"
      ],
      "metadata": {
        "id": "KBS-OjlU4jDC",
        "colab": {
          "base_uri": "https://localhost:8080/"
        },
        "outputId": "5d9457ba-2941-4ce2-e30e-d4312f820fd0"
      },
      "execution_count": null,
      "outputs": [
        {
          "output_type": "stream",
          "name": "stdout",
          "text": [
            "Sorted list: [70, 80, 90, 100, 120, 130]\n",
            "The Number of time the numbers change. 8\n",
            "the number of time value get checked is:  15\n"
          ]
        }
      ]
    },
    {
      "cell_type": "code",
      "source": [
        "\"\"\"\n",
        "The time complexity of the bubble sort algorithm is O(n^2) in the worst case, where n is the length of the list.\n",
        "\n",
        "\n",
        "The space complexity of this code is O(1), as it only uses a constant amount of additional space regardless of the input size.\n",
        "\n",
        "\"\"\""
      ],
      "metadata": {
        "colab": {
          "base_uri": "https://localhost:8080/",
          "height": 70
        },
        "id": "c0dc5DRXKFwg",
        "outputId": "1c9127d9-c892-44e8-ba26-b4089015252a"
      },
      "execution_count": null,
      "outputs": [
        {
          "output_type": "execute_result",
          "data": {
            "text/plain": [
              "'\\nThe time complexity of the bubble sort algorithm is O(n^2) in the worst case, where n is the length of the list.\\n\\n\\nThe space complexity of this code is O(1), as it only uses a constant amount of additional space regardless of the input size.\\n\\n'"
            ],
            "application/vnd.google.colaboratory.intrinsic+json": {
              "type": "string"
            }
          },
          "metadata": {},
          "execution_count": 12
        }
      ]
    },
    {
      "cell_type": "markdown",
      "source": [
        "👉 **Instructions:**\n",
        "\n",
        "1. Start by defining a Python function that takes a list of integers as input.\n",
        "2. Initialize two variables, swaps and comparisons, to zero.\n",
        "3. Implement a for loop that iterates over the list n-1 times, where n is the length of the list.\n",
        "4. Within the loop, implement an inner for loop that iterates over the list from index 0 to n-i-1, where i is the current iteration of the outer loop.\n",
        "5. Within the inner for loop, compare each adjacent pair of elements. If the element on the left is greater than the element on the right, swap them and increment the swaps variable.\n",
        "6. Increment the comparisons variable for each comparison made.\n",
        "7. After the inner loop completes, the largest element will have \"bubbled up\" to the end of the list. Repeat steps 4-6 for the remaining unsorted portion of the list.\n",
        "8. After the outer loop completes, the list will be sorted in ascending order.\n",
        "9. Finally, print the sorted list, as well as the number of swaps and comparisons performed during the sorting process."
      ],
      "metadata": {
        "id": "A6SKpW-F8Pjd"
      }
    },
    {
      "cell_type": "markdown",
      "source": [
        "## **Activity 4:** \n",
        "\n",
        "\n"
      ],
      "metadata": {
        "id": "fQ6ZZ3LD8qvO"
      }
    },
    {
      "cell_type": "markdown",
      "source": [
        "### **Sorting Student Scores** \n",
        "\n",
        "Suppose you are a teacher and have a list of student scores from a recent exam. You need to sort the scores in ascending order so that you can easily identify the highest and lowest scores.\n",
        "\n",
        "1. Develop a Python program that implements bubble sort to sort the student scores.\n",
        "\n",
        "2. If the list contains duplicate scores, modify the program to also display the number of occurrences of each score.\n"
      ],
      "metadata": {
        "id": "RlQMX5OSB97G"
      }
    },
    {
      "cell_type": "code",
      "source": [
        "# Write your code here\n",
        "\n",
        "# Write your code here\n",
        "def bubble_sort(arr):\n",
        "    n = len(arr)\n",
        "\n",
        "    for i in range(n - 1):\n",
        "        for j in range(n - i - 1):\n",
        "            if arr[j] > arr[j + 1]:\n",
        "                arr[j], arr[j + 1] = arr[j + 1], arr[j]\n",
        "\n",
        "    return arr\n",
        "\n",
        "\n",
        "\n"
      ],
      "metadata": {
        "id": "FIO7pBVU--5G"
      },
      "execution_count": null,
      "outputs": []
    },
    {
      "cell_type": "code",
      "source": [
        "# Test case for bubble sort\n",
        "arr = [3, 7, 1, 9, 2, 5]\n",
        "sorted_arr = bubble_sort(arr)\n",
        "\n",
        "# Expected output: [1, 2, 3, 5, 7, 9]\n",
        "print(sorted_arr)"
      ],
      "metadata": {
        "id": "X4cicYgySk_v",
        "colab": {
          "base_uri": "https://localhost:8080/"
        },
        "outputId": "2d1e0156-893d-4b26-84b6-01df9e8dbc9d"
      },
      "execution_count": null,
      "outputs": [
        {
          "output_type": "stream",
          "name": "stdout",
          "text": [
            "[1, 2, 3, 5, 7, 9]\n"
          ]
        }
      ]
    },
    {
      "cell_type": "code",
      "source": [
        "# Count the occurrences of each score\n",
        "score_count = {}\n",
        "for score in sorted_arr:\n",
        "    \n",
        "    if score in score_count:\n",
        "        score_count[score] += 1\n",
        "        \n",
        "    else:\n",
        "        score_count[score] = 1\n",
        "        \n",
        "\n",
        "# Print the number of occurrences of each score\n",
        "for score, count in score_count.items():\n",
        "    print(f\"Score {score}: {count} occurrence(s)\")"
      ],
      "metadata": {
        "colab": {
          "base_uri": "https://localhost:8080/"
        },
        "id": "VpK4sGBiJe-P",
        "outputId": "cf5afab5-ee6c-4f54-e907-bf5d923af298"
      },
      "execution_count": null,
      "outputs": [
        {
          "output_type": "stream",
          "name": "stdout",
          "text": [
            "Score 1: 1 occurrence(s)\n",
            "Score 2: 1 occurrence(s)\n",
            "Score 3: 1 occurrence(s)\n",
            "Score 5: 1 occurrence(s)\n",
            "Score 7: 1 occurrence(s)\n",
            "Score 9: 1 occurrence(s)\n"
          ]
        }
      ]
    },
    {
      "cell_type": "code",
      "source": [
        "\"\"\"\n",
        "The time complexity of the bubble sort algorithm is O(n^2) in the worst case\n",
        "\n",
        "The space complexity of this code is O(n), where n is the number of distinct scores in the list. (score_count)\n",
        "\"\"\""
      ],
      "metadata": {
        "colab": {
          "base_uri": "https://localhost:8080/",
          "height": 70
        },
        "id": "v0uOVf2VJhje",
        "outputId": "9662818b-d90a-464c-e09f-8a909777f7bb"
      },
      "execution_count": null,
      "outputs": [
        {
          "output_type": "execute_result",
          "data": {
            "text/plain": [
              "'\\nThe time complexity of the bubble sort algorithm is O(n^2) in the worst case\\n\\nThe space complexity of this code is O(n), where n is the number of distinct scores in the list. (score_count)\\n'"
            ],
            "application/vnd.google.colaboratory.intrinsic+json": {
              "type": "string"
            }
          },
          "metadata": {},
          "execution_count": 9
        }
      ]
    },
    {
      "cell_type": "markdown",
      "source": [
        "👉 **Instructions:**\n",
        "\n",
        "1. Start with an unsorted array of numbers.\n",
        "\n",
        "2. Compare the first two numbers in the array. If the first number is greater than the second number, swap their positions.\n",
        "\n",
        "3. Move to the next pair of numbers (i.e., the second and third numbers) and compare them. If the second number is greater than the third number, swap their positions.\n",
        "\n",
        "4. Repeat this process for each subsequent pair of numbers in the array until the end of the array is reached.\n",
        "\n",
        "5. After the first iteration, the largest number in the array will have \"bubbled up\" to the end of the array.\n",
        "\n",
        "6. Repeat steps 2-5 for each remaining element in the array (i.e., until the array is completely sorted).\n",
        "\n",
        "7. At the end of each iteration, the number of unsorted elements in the array will be reduced by 1.\n",
        "\n",
        "8. Stop the algorithm when there are no more unsorted elements in the array.\n",
        "\n",
        "9. The resulting array will be sorted in ascending order.\n",
        "\n",
        "\n",
        "Additionally, find the time and space complexity of the code you have developed."
      ],
      "metadata": {
        "id": "dX3MiDcASZFv"
      }
    }
  ]
}