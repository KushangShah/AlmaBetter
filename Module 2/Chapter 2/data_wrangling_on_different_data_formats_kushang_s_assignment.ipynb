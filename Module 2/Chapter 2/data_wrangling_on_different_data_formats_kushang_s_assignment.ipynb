{
  "nbformat": 4,
  "nbformat_minor": 0,
  "metadata": {
    "colab": {
      "provenance": []
    },
    "kernelspec": {
      "name": "python3",
      "display_name": "Python 3"
    },
    "language_info": {
      "name": "python"
    }
  },
  "cells": [
    {
      "cell_type": "markdown",
      "source": [
        "## 🎉 Woohoo! It's time for another assignment!\n",
        "\n",
        "Are you ready to put your data wrangling skills to the test for different data formats? 💪📊🐍\n",
        "\n",
        "Get ready to dive deep into Python's data wrangling tools and techniques. You'll be a pro at handling messy and different formats of data sets in no time! 🤓👨‍💻🔍\n",
        "\n",
        "So buckle up and let's get started! Good luck! 🍀🚀"
      ],
      "metadata": {
        "id": "u6aAE6GNk2Za"
      }
    },
    {
      "cell_type": "markdown",
      "source": [
        "#### All the datasets required for this assignment can be found here: https://drive.google.com/drive/folders/1tCiLXoHnQAyq8xmI-Wibn1qC22EFk2-j?usp=sharing\n",
        "\n",
        "#### You can download the data and start working with the assignment."
      ],
      "metadata": {
        "id": "3ShbmWl-p1Jl"
      }
    },
    {
      "cell_type": "code",
      "source": [
        "from google.colab import drive\n",
        "drive.mount(\"/content/drive\")"
      ],
      "metadata": {
        "id": "hfE_3IISsT74",
        "outputId": "4f6322a8-5b4f-41c7-d037-09659efb4214",
        "colab": {
          "base_uri": "https://localhost:8080/"
        }
      },
      "execution_count": null,
      "outputs": [
        {
          "output_type": "stream",
          "name": "stdout",
          "text": [
            "Mounted at /content/drive\n"
          ]
        }
      ]
    },
    {
      "cell_type": "markdown",
      "source": [
        "## **Activity 1:**"
      ],
      "metadata": {
        "id": "nmAwmNmVKmk4"
      }
    },
    {
      "cell_type": "markdown",
      "source": [
        "### **Employee Data on a CSV File:**\n",
        "\n",
        "A company has a CSV file containing data on their employees, including their names, ages, and genders. The company is interested in analyzing this data to gain insights into the demographics of their workforce.\n",
        "\n",
        "How can they use data wrangling techniques in Python to answer some key questions about their employee demographics?"
      ],
      "metadata": {
        "id": "GaoKhPXcKo4V"
      }
    },
    {
      "cell_type": "markdown",
      "source": [
        "![employee.png](data:image/png;base64,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)"
      ],
      "metadata": {
        "id": "MxHVIMKulwWQ"
      }
    },
    {
      "cell_type": "code",
      "source": [
        "# Write your code here\n",
        "import pandas as pd\n",
        "\n",
        "df = pd.read_csv(\"/content/drive/MyDrive/Diff data types/Copy of employees.csv\")\n",
        "df"
      ],
      "metadata": {
        "id": "ZKYxg3D1lM4y",
        "colab": {
          "base_uri": "https://localhost:8080/",
          "height": 300
        },
        "outputId": "4cdb2a6d-bf05-4103-dc29-7a32ad44a012"
      },
      "execution_count": null,
      "outputs": [
        {
          "output_type": "execute_result",
          "data": {
            "text/plain": [
              "     name  age  gender\n",
              "0    John   32    Male\n",
              "1    Jane   27  Female\n",
              "2     Bob   45    Male\n",
              "3   Alice   29  Female\n",
              "4    Mark   38    Male\n",
              "5   Emily   26  Female\n",
              "6     Tom   34    Male\n",
              "7  Olivia   31  Female"
            ],
            "text/html": [
              "\n",
              "  <div id=\"df-a53ffc5b-480d-4074-a54a-5a5fe5745677\">\n",
              "    <div class=\"colab-df-container\">\n",
              "      <div>\n",
              "<style scoped>\n",
              "    .dataframe tbody tr th:only-of-type {\n",
              "        vertical-align: middle;\n",
              "    }\n",
              "\n",
              "    .dataframe tbody tr th {\n",
              "        vertical-align: top;\n",
              "    }\n",
              "\n",
              "    .dataframe thead th {\n",
              "        text-align: right;\n",
              "    }\n",
              "</style>\n",
              "<table border=\"1\" class=\"dataframe\">\n",
              "  <thead>\n",
              "    <tr style=\"text-align: right;\">\n",
              "      <th></th>\n",
              "      <th>name</th>\n",
              "      <th>age</th>\n",
              "      <th>gender</th>\n",
              "    </tr>\n",
              "  </thead>\n",
              "  <tbody>\n",
              "    <tr>\n",
              "      <th>0</th>\n",
              "      <td>John</td>\n",
              "      <td>32</td>\n",
              "      <td>Male</td>\n",
              "    </tr>\n",
              "    <tr>\n",
              "      <th>1</th>\n",
              "      <td>Jane</td>\n",
              "      <td>27</td>\n",
              "      <td>Female</td>\n",
              "    </tr>\n",
              "    <tr>\n",
              "      <th>2</th>\n",
              "      <td>Bob</td>\n",
              "      <td>45</td>\n",
              "      <td>Male</td>\n",
              "    </tr>\n",
              "    <tr>\n",
              "      <th>3</th>\n",
              "      <td>Alice</td>\n",
              "      <td>29</td>\n",
              "      <td>Female</td>\n",
              "    </tr>\n",
              "    <tr>\n",
              "      <th>4</th>\n",
              "      <td>Mark</td>\n",
              "      <td>38</td>\n",
              "      <td>Male</td>\n",
              "    </tr>\n",
              "    <tr>\n",
              "      <th>5</th>\n",
              "      <td>Emily</td>\n",
              "      <td>26</td>\n",
              "      <td>Female</td>\n",
              "    </tr>\n",
              "    <tr>\n",
              "      <th>6</th>\n",
              "      <td>Tom</td>\n",
              "      <td>34</td>\n",
              "      <td>Male</td>\n",
              "    </tr>\n",
              "    <tr>\n",
              "      <th>7</th>\n",
              "      <td>Olivia</td>\n",
              "      <td>31</td>\n",
              "      <td>Female</td>\n",
              "    </tr>\n",
              "  </tbody>\n",
              "</table>\n",
              "</div>\n",
              "      <button class=\"colab-df-convert\" onclick=\"convertToInteractive('df-a53ffc5b-480d-4074-a54a-5a5fe5745677')\"\n",
              "              title=\"Convert this dataframe to an interactive table.\"\n",
              "              style=\"display:none;\">\n",
              "        \n",
              "  <svg xmlns=\"http://www.w3.org/2000/svg\" height=\"24px\"viewBox=\"0 0 24 24\"\n",
              "       width=\"24px\">\n",
              "    <path d=\"M0 0h24v24H0V0z\" fill=\"none\"/>\n",
              "    <path d=\"M18.56 5.44l.94 2.06.94-2.06 2.06-.94-2.06-.94-.94-2.06-.94 2.06-2.06.94zm-11 1L8.5 8.5l.94-2.06 2.06-.94-2.06-.94L8.5 2.5l-.94 2.06-2.06.94zm10 10l.94 2.06.94-2.06 2.06-.94-2.06-.94-.94-2.06-.94 2.06-2.06.94z\"/><path d=\"M17.41 7.96l-1.37-1.37c-.4-.4-.92-.59-1.43-.59-.52 0-1.04.2-1.43.59L10.3 9.45l-7.72 7.72c-.78.78-.78 2.05 0 2.83L4 21.41c.39.39.9.59 1.41.59.51 0 1.02-.2 1.41-.59l7.78-7.78 2.81-2.81c.8-.78.8-2.07 0-2.86zM5.41 20L4 18.59l7.72-7.72 1.47 1.35L5.41 20z\"/>\n",
              "  </svg>\n",
              "      </button>\n",
              "      \n",
              "  <style>\n",
              "    .colab-df-container {\n",
              "      display:flex;\n",
              "      flex-wrap:wrap;\n",
              "      gap: 12px;\n",
              "    }\n",
              "\n",
              "    .colab-df-convert {\n",
              "      background-color: #E8F0FE;\n",
              "      border: none;\n",
              "      border-radius: 50%;\n",
              "      cursor: pointer;\n",
              "      display: none;\n",
              "      fill: #1967D2;\n",
              "      height: 32px;\n",
              "      padding: 0 0 0 0;\n",
              "      width: 32px;\n",
              "    }\n",
              "\n",
              "    .colab-df-convert:hover {\n",
              "      background-color: #E2EBFA;\n",
              "      box-shadow: 0px 1px 2px rgba(60, 64, 67, 0.3), 0px 1px 3px 1px rgba(60, 64, 67, 0.15);\n",
              "      fill: #174EA6;\n",
              "    }\n",
              "\n",
              "    [theme=dark] .colab-df-convert {\n",
              "      background-color: #3B4455;\n",
              "      fill: #D2E3FC;\n",
              "    }\n",
              "\n",
              "    [theme=dark] .colab-df-convert:hover {\n",
              "      background-color: #434B5C;\n",
              "      box-shadow: 0px 1px 3px 1px rgba(0, 0, 0, 0.15);\n",
              "      filter: drop-shadow(0px 1px 2px rgba(0, 0, 0, 0.3));\n",
              "      fill: #FFFFFF;\n",
              "    }\n",
              "  </style>\n",
              "\n",
              "      <script>\n",
              "        const buttonEl =\n",
              "          document.querySelector('#df-a53ffc5b-480d-4074-a54a-5a5fe5745677 button.colab-df-convert');\n",
              "        buttonEl.style.display =\n",
              "          google.colab.kernel.accessAllowed ? 'block' : 'none';\n",
              "\n",
              "        async function convertToInteractive(key) {\n",
              "          const element = document.querySelector('#df-a53ffc5b-480d-4074-a54a-5a5fe5745677');\n",
              "          const dataTable =\n",
              "            await google.colab.kernel.invokeFunction('convertToInteractive',\n",
              "                                                     [key], {});\n",
              "          if (!dataTable) return;\n",
              "\n",
              "          const docLinkHtml = 'Like what you see? Visit the ' +\n",
              "            '<a target=\"_blank\" href=https://colab.research.google.com/notebooks/data_table.ipynb>data table notebook</a>'\n",
              "            + ' to learn more about interactive tables.';\n",
              "          element.innerHTML = '';\n",
              "          dataTable['output_type'] = 'display_data';\n",
              "          await google.colab.output.renderOutput(dataTable, element);\n",
              "          const docLink = document.createElement('div');\n",
              "          docLink.innerHTML = docLinkHtml;\n",
              "          element.appendChild(docLink);\n",
              "        }\n",
              "      </script>\n",
              "    </div>\n",
              "  </div>\n",
              "  "
            ]
          },
          "metadata": {},
          "execution_count": 2
        }
      ]
    },
    {
      "cell_type": "code",
      "source": [
        "print(df['age'].describe())"
      ],
      "metadata": {
        "colab": {
          "base_uri": "https://localhost:8080/"
        },
        "id": "pOM7n9pnV8Ei",
        "outputId": "939fec42-c99e-48bc-8053-644e1d27a703"
      },
      "execution_count": null,
      "outputs": [
        {
          "output_type": "stream",
          "name": "stdout",
          "text": [
            "count     8.000000\n",
            "mean     32.750000\n",
            "std       6.273527\n",
            "min      26.000000\n",
            "25%      28.500000\n",
            "50%      31.500000\n",
            "75%      35.000000\n",
            "max      45.000000\n",
            "Name: age, dtype: float64\n"
          ]
        }
      ]
    },
    {
      "cell_type": "code",
      "source": [
        "\"\"\"\n",
        "Filter the data to only include employees between the ages of 25 and 40\n",
        "using boolean indexing: filtered_df = df[(df['age'] >= 25) & (df['age'] <= 40)]\n",
        "\"\"\"\n",
        "\n",
        "filtered_df = df[(df['age'] >= 25) & (df['age'] <= 40)]\n",
        "filtered_df"
      ],
      "metadata": {
        "id": "rCy-1JOKs3Z1",
        "outputId": "0c66ba8c-4f19-42b2-c056-018d627a94a1",
        "colab": {
          "base_uri": "https://localhost:8080/",
          "height": 269
        }
      },
      "execution_count": null,
      "outputs": [
        {
          "output_type": "execute_result",
          "data": {
            "text/plain": [
              "     name  age  gender\n",
              "0    John   32    Male\n",
              "1    Jane   27  Female\n",
              "3   Alice   29  Female\n",
              "4    Mark   38    Male\n",
              "5   Emily   26  Female\n",
              "6     Tom   34    Male\n",
              "7  Olivia   31  Female"
            ],
            "text/html": [
              "\n",
              "  <div id=\"df-4098b127-227e-4310-ab27-741c5811cfce\">\n",
              "    <div class=\"colab-df-container\">\n",
              "      <div>\n",
              "<style scoped>\n",
              "    .dataframe tbody tr th:only-of-type {\n",
              "        vertical-align: middle;\n",
              "    }\n",
              "\n",
              "    .dataframe tbody tr th {\n",
              "        vertical-align: top;\n",
              "    }\n",
              "\n",
              "    .dataframe thead th {\n",
              "        text-align: right;\n",
              "    }\n",
              "</style>\n",
              "<table border=\"1\" class=\"dataframe\">\n",
              "  <thead>\n",
              "    <tr style=\"text-align: right;\">\n",
              "      <th></th>\n",
              "      <th>name</th>\n",
              "      <th>age</th>\n",
              "      <th>gender</th>\n",
              "    </tr>\n",
              "  </thead>\n",
              "  <tbody>\n",
              "    <tr>\n",
              "      <th>0</th>\n",
              "      <td>John</td>\n",
              "      <td>32</td>\n",
              "      <td>Male</td>\n",
              "    </tr>\n",
              "    <tr>\n",
              "      <th>1</th>\n",
              "      <td>Jane</td>\n",
              "      <td>27</td>\n",
              "      <td>Female</td>\n",
              "    </tr>\n",
              "    <tr>\n",
              "      <th>3</th>\n",
              "      <td>Alice</td>\n",
              "      <td>29</td>\n",
              "      <td>Female</td>\n",
              "    </tr>\n",
              "    <tr>\n",
              "      <th>4</th>\n",
              "      <td>Mark</td>\n",
              "      <td>38</td>\n",
              "      <td>Male</td>\n",
              "    </tr>\n",
              "    <tr>\n",
              "      <th>5</th>\n",
              "      <td>Emily</td>\n",
              "      <td>26</td>\n",
              "      <td>Female</td>\n",
              "    </tr>\n",
              "    <tr>\n",
              "      <th>6</th>\n",
              "      <td>Tom</td>\n",
              "      <td>34</td>\n",
              "      <td>Male</td>\n",
              "    </tr>\n",
              "    <tr>\n",
              "      <th>7</th>\n",
              "      <td>Olivia</td>\n",
              "      <td>31</td>\n",
              "      <td>Female</td>\n",
              "    </tr>\n",
              "  </tbody>\n",
              "</table>\n",
              "</div>\n",
              "      <button class=\"colab-df-convert\" onclick=\"convertToInteractive('df-4098b127-227e-4310-ab27-741c5811cfce')\"\n",
              "              title=\"Convert this dataframe to an interactive table.\"\n",
              "              style=\"display:none;\">\n",
              "        \n",
              "  <svg xmlns=\"http://www.w3.org/2000/svg\" height=\"24px\"viewBox=\"0 0 24 24\"\n",
              "       width=\"24px\">\n",
              "    <path d=\"M0 0h24v24H0V0z\" fill=\"none\"/>\n",
              "    <path d=\"M18.56 5.44l.94 2.06.94-2.06 2.06-.94-2.06-.94-.94-2.06-.94 2.06-2.06.94zm-11 1L8.5 8.5l.94-2.06 2.06-.94-2.06-.94L8.5 2.5l-.94 2.06-2.06.94zm10 10l.94 2.06.94-2.06 2.06-.94-2.06-.94-.94-2.06-.94 2.06-2.06.94z\"/><path d=\"M17.41 7.96l-1.37-1.37c-.4-.4-.92-.59-1.43-.59-.52 0-1.04.2-1.43.59L10.3 9.45l-7.72 7.72c-.78.78-.78 2.05 0 2.83L4 21.41c.39.39.9.59 1.41.59.51 0 1.02-.2 1.41-.59l7.78-7.78 2.81-2.81c.8-.78.8-2.07 0-2.86zM5.41 20L4 18.59l7.72-7.72 1.47 1.35L5.41 20z\"/>\n",
              "  </svg>\n",
              "      </button>\n",
              "      \n",
              "  <style>\n",
              "    .colab-df-container {\n",
              "      display:flex;\n",
              "      flex-wrap:wrap;\n",
              "      gap: 12px;\n",
              "    }\n",
              "\n",
              "    .colab-df-convert {\n",
              "      background-color: #E8F0FE;\n",
              "      border: none;\n",
              "      border-radius: 50%;\n",
              "      cursor: pointer;\n",
              "      display: none;\n",
              "      fill: #1967D2;\n",
              "      height: 32px;\n",
              "      padding: 0 0 0 0;\n",
              "      width: 32px;\n",
              "    }\n",
              "\n",
              "    .colab-df-convert:hover {\n",
              "      background-color: #E2EBFA;\n",
              "      box-shadow: 0px 1px 2px rgba(60, 64, 67, 0.3), 0px 1px 3px 1px rgba(60, 64, 67, 0.15);\n",
              "      fill: #174EA6;\n",
              "    }\n",
              "\n",
              "    [theme=dark] .colab-df-convert {\n",
              "      background-color: #3B4455;\n",
              "      fill: #D2E3FC;\n",
              "    }\n",
              "\n",
              "    [theme=dark] .colab-df-convert:hover {\n",
              "      background-color: #434B5C;\n",
              "      box-shadow: 0px 1px 3px 1px rgba(0, 0, 0, 0.15);\n",
              "      filter: drop-shadow(0px 1px 2px rgba(0, 0, 0, 0.3));\n",
              "      fill: #FFFFFF;\n",
              "    }\n",
              "  </style>\n",
              "\n",
              "      <script>\n",
              "        const buttonEl =\n",
              "          document.querySelector('#df-4098b127-227e-4310-ab27-741c5811cfce button.colab-df-convert');\n",
              "        buttonEl.style.display =\n",
              "          google.colab.kernel.accessAllowed ? 'block' : 'none';\n",
              "\n",
              "        async function convertToInteractive(key) {\n",
              "          const element = document.querySelector('#df-4098b127-227e-4310-ab27-741c5811cfce');\n",
              "          const dataTable =\n",
              "            await google.colab.kernel.invokeFunction('convertToInteractive',\n",
              "                                                     [key], {});\n",
              "          if (!dataTable) return;\n",
              "\n",
              "          const docLinkHtml = 'Like what you see? Visit the ' +\n",
              "            '<a target=\"_blank\" href=https://colab.research.google.com/notebooks/data_table.ipynb>data table notebook</a>'\n",
              "            + ' to learn more about interactive tables.';\n",
              "          element.innerHTML = '';\n",
              "          dataTable['output_type'] = 'display_data';\n",
              "          await google.colab.output.renderOutput(dataTable, element);\n",
              "          const docLink = document.createElement('div');\n",
              "          docLink.innerHTML = docLinkHtml;\n",
              "          element.appendChild(docLink);\n",
              "        }\n",
              "      </script>\n",
              "    </div>\n",
              "  </div>\n",
              "  "
            ]
          },
          "metadata": {},
          "execution_count": 4
        }
      ]
    },
    {
      "cell_type": "code",
      "source": [
        "\"\"\"\n",
        "Sort the data by age in descending order using the sort_values() function:\n",
        "sorted_df = df.sort_values(by=['age'], ascending=False)\n",
        "\"\"\"\n",
        "\n",
        "sorted_df = df.sort_values(by=['age'], ascending=False)\n",
        "sorted_df"
      ],
      "metadata": {
        "id": "0Al5U6uLtqmb",
        "outputId": "308a7422-8bfd-442e-c0ac-a4295d02b3a7",
        "colab": {
          "base_uri": "https://localhost:8080/",
          "height": 300
        }
      },
      "execution_count": null,
      "outputs": [
        {
          "output_type": "execute_result",
          "data": {
            "text/plain": [
              "     name  age  gender\n",
              "2     Bob   45    Male\n",
              "4    Mark   38    Male\n",
              "6     Tom   34    Male\n",
              "0    John   32    Male\n",
              "7  Olivia   31  Female\n",
              "3   Alice   29  Female\n",
              "1    Jane   27  Female\n",
              "5   Emily   26  Female"
            ],
            "text/html": [
              "\n",
              "  <div id=\"df-1250eac1-0853-4cf5-a4d9-af657a2a5a27\">\n",
              "    <div class=\"colab-df-container\">\n",
              "      <div>\n",
              "<style scoped>\n",
              "    .dataframe tbody tr th:only-of-type {\n",
              "        vertical-align: middle;\n",
              "    }\n",
              "\n",
              "    .dataframe tbody tr th {\n",
              "        vertical-align: top;\n",
              "    }\n",
              "\n",
              "    .dataframe thead th {\n",
              "        text-align: right;\n",
              "    }\n",
              "</style>\n",
              "<table border=\"1\" class=\"dataframe\">\n",
              "  <thead>\n",
              "    <tr style=\"text-align: right;\">\n",
              "      <th></th>\n",
              "      <th>name</th>\n",
              "      <th>age</th>\n",
              "      <th>gender</th>\n",
              "    </tr>\n",
              "  </thead>\n",
              "  <tbody>\n",
              "    <tr>\n",
              "      <th>2</th>\n",
              "      <td>Bob</td>\n",
              "      <td>45</td>\n",
              "      <td>Male</td>\n",
              "    </tr>\n",
              "    <tr>\n",
              "      <th>4</th>\n",
              "      <td>Mark</td>\n",
              "      <td>38</td>\n",
              "      <td>Male</td>\n",
              "    </tr>\n",
              "    <tr>\n",
              "      <th>6</th>\n",
              "      <td>Tom</td>\n",
              "      <td>34</td>\n",
              "      <td>Male</td>\n",
              "    </tr>\n",
              "    <tr>\n",
              "      <th>0</th>\n",
              "      <td>John</td>\n",
              "      <td>32</td>\n",
              "      <td>Male</td>\n",
              "    </tr>\n",
              "    <tr>\n",
              "      <th>7</th>\n",
              "      <td>Olivia</td>\n",
              "      <td>31</td>\n",
              "      <td>Female</td>\n",
              "    </tr>\n",
              "    <tr>\n",
              "      <th>3</th>\n",
              "      <td>Alice</td>\n",
              "      <td>29</td>\n",
              "      <td>Female</td>\n",
              "    </tr>\n",
              "    <tr>\n",
              "      <th>1</th>\n",
              "      <td>Jane</td>\n",
              "      <td>27</td>\n",
              "      <td>Female</td>\n",
              "    </tr>\n",
              "    <tr>\n",
              "      <th>5</th>\n",
              "      <td>Emily</td>\n",
              "      <td>26</td>\n",
              "      <td>Female</td>\n",
              "    </tr>\n",
              "  </tbody>\n",
              "</table>\n",
              "</div>\n",
              "      <button class=\"colab-df-convert\" onclick=\"convertToInteractive('df-1250eac1-0853-4cf5-a4d9-af657a2a5a27')\"\n",
              "              title=\"Convert this dataframe to an interactive table.\"\n",
              "              style=\"display:none;\">\n",
              "        \n",
              "  <svg xmlns=\"http://www.w3.org/2000/svg\" height=\"24px\"viewBox=\"0 0 24 24\"\n",
              "       width=\"24px\">\n",
              "    <path d=\"M0 0h24v24H0V0z\" fill=\"none\"/>\n",
              "    <path d=\"M18.56 5.44l.94 2.06.94-2.06 2.06-.94-2.06-.94-.94-2.06-.94 2.06-2.06.94zm-11 1L8.5 8.5l.94-2.06 2.06-.94-2.06-.94L8.5 2.5l-.94 2.06-2.06.94zm10 10l.94 2.06.94-2.06 2.06-.94-2.06-.94-.94-2.06-.94 2.06-2.06.94z\"/><path d=\"M17.41 7.96l-1.37-1.37c-.4-.4-.92-.59-1.43-.59-.52 0-1.04.2-1.43.59L10.3 9.45l-7.72 7.72c-.78.78-.78 2.05 0 2.83L4 21.41c.39.39.9.59 1.41.59.51 0 1.02-.2 1.41-.59l7.78-7.78 2.81-2.81c.8-.78.8-2.07 0-2.86zM5.41 20L4 18.59l7.72-7.72 1.47 1.35L5.41 20z\"/>\n",
              "  </svg>\n",
              "      </button>\n",
              "      \n",
              "  <style>\n",
              "    .colab-df-container {\n",
              "      display:flex;\n",
              "      flex-wrap:wrap;\n",
              "      gap: 12px;\n",
              "    }\n",
              "\n",
              "    .colab-df-convert {\n",
              "      background-color: #E8F0FE;\n",
              "      border: none;\n",
              "      border-radius: 50%;\n",
              "      cursor: pointer;\n",
              "      display: none;\n",
              "      fill: #1967D2;\n",
              "      height: 32px;\n",
              "      padding: 0 0 0 0;\n",
              "      width: 32px;\n",
              "    }\n",
              "\n",
              "    .colab-df-convert:hover {\n",
              "      background-color: #E2EBFA;\n",
              "      box-shadow: 0px 1px 2px rgba(60, 64, 67, 0.3), 0px 1px 3px 1px rgba(60, 64, 67, 0.15);\n",
              "      fill: #174EA6;\n",
              "    }\n",
              "\n",
              "    [theme=dark] .colab-df-convert {\n",
              "      background-color: #3B4455;\n",
              "      fill: #D2E3FC;\n",
              "    }\n",
              "\n",
              "    [theme=dark] .colab-df-convert:hover {\n",
              "      background-color: #434B5C;\n",
              "      box-shadow: 0px 1px 3px 1px rgba(0, 0, 0, 0.15);\n",
              "      filter: drop-shadow(0px 1px 2px rgba(0, 0, 0, 0.3));\n",
              "      fill: #FFFFFF;\n",
              "    }\n",
              "  </style>\n",
              "\n",
              "      <script>\n",
              "        const buttonEl =\n",
              "          document.querySelector('#df-1250eac1-0853-4cf5-a4d9-af657a2a5a27 button.colab-df-convert');\n",
              "        buttonEl.style.display =\n",
              "          google.colab.kernel.accessAllowed ? 'block' : 'none';\n",
              "\n",
              "        async function convertToInteractive(key) {\n",
              "          const element = document.querySelector('#df-1250eac1-0853-4cf5-a4d9-af657a2a5a27');\n",
              "          const dataTable =\n",
              "            await google.colab.kernel.invokeFunction('convertToInteractive',\n",
              "                                                     [key], {});\n",
              "          if (!dataTable) return;\n",
              "\n",
              "          const docLinkHtml = 'Like what you see? Visit the ' +\n",
              "            '<a target=\"_blank\" href=https://colab.research.google.com/notebooks/data_table.ipynb>data table notebook</a>'\n",
              "            + ' to learn more about interactive tables.';\n",
              "          element.innerHTML = '';\n",
              "          dataTable['output_type'] = 'display_data';\n",
              "          await google.colab.output.renderOutput(dataTable, element);\n",
              "          const docLink = document.createElement('div');\n",
              "          docLink.innerHTML = docLinkHtml;\n",
              "          element.appendChild(docLink);\n",
              "        }\n",
              "      </script>\n",
              "    </div>\n",
              "  </div>\n",
              "  "
            ]
          },
          "metadata": {},
          "execution_count": 5
        }
      ]
    },
    {
      "cell_type": "code",
      "source": [
        "\"\"\"\n",
        "Save the modified DataFrame to a new CSV file using the to_csv() function.\n",
        "\"\"\"\n",
        "\n",
        "sorted_df.to_csv(\"/content/drive/MyDrive/Diff data types/sorted_employees.csv\", index=False)"
      ],
      "metadata": {
        "id": "fjuFgtm3t0ED"
      },
      "execution_count": null,
      "outputs": []
    },
    {
      "cell_type": "markdown",
      "source": [
        "👉 **Instructions:**\n",
        "\n",
        "1. Load the employee data into a pandas DataFrame object using the read_csv() function. The CSV file should be located in the current working directory or you should provide the full path to the file: df = pd.read_csv('employee_data.csv')\n",
        "2. Use the describe() function to get some basic statistics on the age distribution of employees: print(df['age'].describe())\n",
        "3. Filter the data to only include employees between the ages of 25 and 40 using boolean indexing: filtered_df = df[(df['age'] >= 25) & (df['age'] <= 40)]\n",
        "4. Print the filtered DataFrame to see the results: print(filtered_df)\n",
        "5. Sort the data by age in descending order using the sort_values() function: sorted_df = df.sort_values(by=['age'], ascending=False)\n",
        "6. Print the sorted DataFrame to see the results: print(sorted_df)\n",
        "7. Save the modified DataFrame to a new CSV file using the to_csv() function."
      ],
      "metadata": {
        "id": "J1Ek4BuWMNG-"
      }
    },
    {
      "cell_type": "markdown",
      "source": [
        "## **Activity 2:**"
      ],
      "metadata": {
        "id": "n97ZFHbXNEv4"
      }
    },
    {
      "cell_type": "markdown",
      "source": [
        "### **Employee Data on a JSON File:**\n",
        "\n",
        "A company has a JSON file containing data on their customers, including their names, ages, genders, and locations. The company is interested in analyzing this data to gain insights into the demographics of their customer base.\n",
        "\n",
        "How can they use data wrangling techniques in Python to answer some key questions about their customer demographics?\n",
        "\n",
        "Some potential follow-up questions could be:\n",
        "\n",
        "1. What is the age distribution of our customer base?\n",
        "2. How does the gender ratio of our customer base vary by location?\n",
        "3. Which location has the highest proportion of customers aged 18-30?\n",
        "4. Which location has the highest proportion of female customers?\n",
        "5. How does the average age of our customers vary by location?"
      ],
      "metadata": {
        "id": "TKm6_VnsNHB9"
      }
    },
    {
      "cell_type": "markdown",
      "source": [
        "**Note**: The dataset to be used here is named as \"customer_data.json\" and not \"employee.json\"."
      ],
      "metadata": {
        "id": "UvJzphRWCAOh"
      }
    },
    {
      "cell_type": "markdown",
      "source": [
        "![json-file.png](data:image/png;base64,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)"
      ],
      "metadata": {
        "id": "Bda7VVQVmRMI"
      }
    },
    {
      "cell_type": "code",
      "source": [
        "# Write your code here\n",
        "import json\n",
        "import pandas as pd"
      ],
      "metadata": {
        "id": "1AMbJaVsmUXY"
      },
      "execution_count": null,
      "outputs": []
    },
    {
      "cell_type": "code",
      "source": [
        "with open(\"/content/drive/MyDrive/Diff data types/Copy of customer_data.json\") as f:\n",
        "  data = json.load(f)\n",
        "\n",
        "data\n"
      ],
      "metadata": {
        "id": "TM_9KXiYuhLX",
        "outputId": "7cde8f6b-c314-42a1-cc59-8e46177a3fe4",
        "colab": {
          "base_uri": "https://localhost:8080/"
        }
      },
      "execution_count": null,
      "outputs": [
        {
          "output_type": "execute_result",
          "data": {
            "text/plain": [
              "{'customers': [{'name': 'John',\n",
              "   'age': 32,\n",
              "   'gender': 'Male',\n",
              "   'location': 'New York'},\n",
              "  {'name': 'Jane', 'age': 27, 'gender': 'Female', 'location': 'San Francisco'},\n",
              "  {'name': 'Bob', 'age': 45, 'gender': 'Male', 'location': 'Chicago'},\n",
              "  {'name': 'Alice',\n",
              "   'age': 20,\n",
              "   'gender': 'Female',\n",
              "   'location': 'San Francisco'},\n",
              "  {'name': 'Tom', 'age': 50, 'gender': 'Male', 'location': 'New York'},\n",
              "  {'name': 'Sue', 'age': 23, 'gender': 'Female', 'location': 'Chicago'}]}"
            ]
          },
          "metadata": {},
          "execution_count": 8
        }
      ]
    },
    {
      "cell_type": "code",
      "source": [
        "data.keys()"
      ],
      "metadata": {
        "colab": {
          "base_uri": "https://localhost:8080/"
        },
        "id": "lIgpfOiPwBa5",
        "outputId": "bf2faeb8-0eed-4965-bcbc-3503e59b269b"
      },
      "execution_count": null,
      "outputs": [
        {
          "output_type": "execute_result",
          "data": {
            "text/plain": [
              "dict_keys(['customers'])"
            ]
          },
          "metadata": {},
          "execution_count": 18
        }
      ]
    },
    {
      "cell_type": "code",
      "source": [
        "# load this data into panda\n",
        "df = pd.DataFrame(data)\n",
        "df"
      ],
      "metadata": {
        "id": "HS0nJoL6u7RI",
        "outputId": "897d9897-4840-49c3-cd6a-2d78028d649a",
        "colab": {
          "base_uri": "https://localhost:8080/",
          "height": 237
        }
      },
      "execution_count": null,
      "outputs": [
        {
          "output_type": "execute_result",
          "data": {
            "text/plain": [
              "                                           customers\n",
              "0  {'name': 'John', 'age': 32, 'gender': 'Male', ...\n",
              "1  {'name': 'Jane', 'age': 27, 'gender': 'Female'...\n",
              "2  {'name': 'Bob', 'age': 45, 'gender': 'Male', '...\n",
              "3  {'name': 'Alice', 'age': 20, 'gender': 'Female...\n",
              "4  {'name': 'Tom', 'age': 50, 'gender': 'Male', '...\n",
              "5  {'name': 'Sue', 'age': 23, 'gender': 'Female',..."
            ],
            "text/html": [
              "\n",
              "  <div id=\"df-a49b3890-5a5d-446c-85c6-9d9390337449\">\n",
              "    <div class=\"colab-df-container\">\n",
              "      <div>\n",
              "<style scoped>\n",
              "    .dataframe tbody tr th:only-of-type {\n",
              "        vertical-align: middle;\n",
              "    }\n",
              "\n",
              "    .dataframe tbody tr th {\n",
              "        vertical-align: top;\n",
              "    }\n",
              "\n",
              "    .dataframe thead th {\n",
              "        text-align: right;\n",
              "    }\n",
              "</style>\n",
              "<table border=\"1\" class=\"dataframe\">\n",
              "  <thead>\n",
              "    <tr style=\"text-align: right;\">\n",
              "      <th></th>\n",
              "      <th>customers</th>\n",
              "    </tr>\n",
              "  </thead>\n",
              "  <tbody>\n",
              "    <tr>\n",
              "      <th>0</th>\n",
              "      <td>{'name': 'John', 'age': 32, 'gender': 'Male', ...</td>\n",
              "    </tr>\n",
              "    <tr>\n",
              "      <th>1</th>\n",
              "      <td>{'name': 'Jane', 'age': 27, 'gender': 'Female'...</td>\n",
              "    </tr>\n",
              "    <tr>\n",
              "      <th>2</th>\n",
              "      <td>{'name': 'Bob', 'age': 45, 'gender': 'Male', '...</td>\n",
              "    </tr>\n",
              "    <tr>\n",
              "      <th>3</th>\n",
              "      <td>{'name': 'Alice', 'age': 20, 'gender': 'Female...</td>\n",
              "    </tr>\n",
              "    <tr>\n",
              "      <th>4</th>\n",
              "      <td>{'name': 'Tom', 'age': 50, 'gender': 'Male', '...</td>\n",
              "    </tr>\n",
              "    <tr>\n",
              "      <th>5</th>\n",
              "      <td>{'name': 'Sue', 'age': 23, 'gender': 'Female',...</td>\n",
              "    </tr>\n",
              "  </tbody>\n",
              "</table>\n",
              "</div>\n",
              "      <button class=\"colab-df-convert\" onclick=\"convertToInteractive('df-a49b3890-5a5d-446c-85c6-9d9390337449')\"\n",
              "              title=\"Convert this dataframe to an interactive table.\"\n",
              "              style=\"display:none;\">\n",
              "        \n",
              "  <svg xmlns=\"http://www.w3.org/2000/svg\" height=\"24px\"viewBox=\"0 0 24 24\"\n",
              "       width=\"24px\">\n",
              "    <path d=\"M0 0h24v24H0V0z\" fill=\"none\"/>\n",
              "    <path d=\"M18.56 5.44l.94 2.06.94-2.06 2.06-.94-2.06-.94-.94-2.06-.94 2.06-2.06.94zm-11 1L8.5 8.5l.94-2.06 2.06-.94-2.06-.94L8.5 2.5l-.94 2.06-2.06.94zm10 10l.94 2.06.94-2.06 2.06-.94-2.06-.94-.94-2.06-.94 2.06-2.06.94z\"/><path d=\"M17.41 7.96l-1.37-1.37c-.4-.4-.92-.59-1.43-.59-.52 0-1.04.2-1.43.59L10.3 9.45l-7.72 7.72c-.78.78-.78 2.05 0 2.83L4 21.41c.39.39.9.59 1.41.59.51 0 1.02-.2 1.41-.59l7.78-7.78 2.81-2.81c.8-.78.8-2.07 0-2.86zM5.41 20L4 18.59l7.72-7.72 1.47 1.35L5.41 20z\"/>\n",
              "  </svg>\n",
              "      </button>\n",
              "      \n",
              "  <style>\n",
              "    .colab-df-container {\n",
              "      display:flex;\n",
              "      flex-wrap:wrap;\n",
              "      gap: 12px;\n",
              "    }\n",
              "\n",
              "    .colab-df-convert {\n",
              "      background-color: #E8F0FE;\n",
              "      border: none;\n",
              "      border-radius: 50%;\n",
              "      cursor: pointer;\n",
              "      display: none;\n",
              "      fill: #1967D2;\n",
              "      height: 32px;\n",
              "      padding: 0 0 0 0;\n",
              "      width: 32px;\n",
              "    }\n",
              "\n",
              "    .colab-df-convert:hover {\n",
              "      background-color: #E2EBFA;\n",
              "      box-shadow: 0px 1px 2px rgba(60, 64, 67, 0.3), 0px 1px 3px 1px rgba(60, 64, 67, 0.15);\n",
              "      fill: #174EA6;\n",
              "    }\n",
              "\n",
              "    [theme=dark] .colab-df-convert {\n",
              "      background-color: #3B4455;\n",
              "      fill: #D2E3FC;\n",
              "    }\n",
              "\n",
              "    [theme=dark] .colab-df-convert:hover {\n",
              "      background-color: #434B5C;\n",
              "      box-shadow: 0px 1px 3px 1px rgba(0, 0, 0, 0.15);\n",
              "      filter: drop-shadow(0px 1px 2px rgba(0, 0, 0, 0.3));\n",
              "      fill: #FFFFFF;\n",
              "    }\n",
              "  </style>\n",
              "\n",
              "      <script>\n",
              "        const buttonEl =\n",
              "          document.querySelector('#df-a49b3890-5a5d-446c-85c6-9d9390337449 button.colab-df-convert');\n",
              "        buttonEl.style.display =\n",
              "          google.colab.kernel.accessAllowed ? 'block' : 'none';\n",
              "\n",
              "        async function convertToInteractive(key) {\n",
              "          const element = document.querySelector('#df-a49b3890-5a5d-446c-85c6-9d9390337449');\n",
              "          const dataTable =\n",
              "            await google.colab.kernel.invokeFunction('convertToInteractive',\n",
              "                                                     [key], {});\n",
              "          if (!dataTable) return;\n",
              "\n",
              "          const docLinkHtml = 'Like what you see? Visit the ' +\n",
              "            '<a target=\"_blank\" href=https://colab.research.google.com/notebooks/data_table.ipynb>data table notebook</a>'\n",
              "            + ' to learn more about interactive tables.';\n",
              "          element.innerHTML = '';\n",
              "          dataTable['output_type'] = 'display_data';\n",
              "          await google.colab.output.renderOutput(dataTable, element);\n",
              "          const docLink = document.createElement('div');\n",
              "          docLink.innerHTML = docLinkHtml;\n",
              "          element.appendChild(docLink);\n",
              "        }\n",
              "      </script>\n",
              "    </div>\n",
              "  </div>\n",
              "  "
            ]
          },
          "metadata": {},
          "execution_count": 9
        }
      ]
    },
    {
      "cell_type": "code",
      "source": [
        "# 1) What is the age distribution of our customer base?\n",
        "\n",
        "customers = data[\"customers\"]"
      ],
      "metadata": {
        "id": "vakp7MOmxUdB"
      },
      "execution_count": null,
      "outputs": []
    },
    {
      "cell_type": "code",
      "source": [
        "for i in customers:\n",
        "  age = i[\"age\"]\n",
        "  print(\"Age\",age)"
      ],
      "metadata": {
        "colab": {
          "base_uri": "https://localhost:8080/"
        },
        "id": "r9ZDuMLGwPDN",
        "outputId": "c88e20e6-3a5d-40c2-9877-f6d4d06a9a50"
      },
      "execution_count": null,
      "outputs": [
        {
          "output_type": "stream",
          "name": "stdout",
          "text": [
            "Age 32\n",
            "Age 27\n",
            "Age 45\n",
            "Age 20\n",
            "Age 50\n",
            "Age 23\n"
          ]
        }
      ]
    },
    {
      "cell_type": "code",
      "source": [
        "# 2) How does the gender ratio of our customer base vary by location?\n",
        "\n",
        "gender_ratio = {}\n",
        "\n",
        "for j in customers:\n",
        "  location = j[\"location\"]\n",
        "  gender = j[\"gender\"]\n",
        "\n",
        "  if location not in gender_ratio:\n",
        "    gender_ratio[location] = {\"male\":0, \"female\":0}\n",
        "\n",
        "  gender_ratio[location][gender.lower()] += 1\n",
        "\n",
        "print(gender_ratio)"
      ],
      "metadata": {
        "colab": {
          "base_uri": "https://localhost:8080/"
        },
        "id": "Lf7hSmP6yIrS",
        "outputId": "9fd140e6-06dd-4b2a-a675-9c6f9c7fb210"
      },
      "execution_count": null,
      "outputs": [
        {
          "output_type": "stream",
          "name": "stdout",
          "text": [
            "{'New York': {'male': 2, 'female': 0}, 'San Francisco': {'male': 0, 'female': 2}, 'Chicago': {'male': 1, 'female': 1}}\n"
          ]
        }
      ]
    },
    {
      "cell_type": "code",
      "source": [
        "# 3) Which location has the highest proportion of customers aged 18-30?\n",
        "\n",
        "customer_age = range(18, 31)\n",
        "\n",
        "location_proportion = {}\n",
        "\n",
        "for a in customers:\n",
        "  location = a[\"location\"]\n",
        "  age = a[\"age\"]\n",
        "\n",
        "  if location not in location_proportion:\n",
        "    location_proportion[location] = {\"total customer\": 0, \"age range\": 0}\n",
        "  location_proportion[location][\"total customer\"] += 1\n",
        "\n",
        "  if age in customer_age:\n",
        "    location_proportion[location][\"age range\"] += 1\n",
        "\n",
        "print(location_proportion)\n"
      ],
      "metadata": {
        "colab": {
          "base_uri": "https://localhost:8080/"
        },
        "id": "8XqVqo4xzvcC",
        "outputId": "338627dd-8bfd-44a4-b956-ff9bf888d37f"
      },
      "execution_count": null,
      "outputs": [
        {
          "output_type": "stream",
          "name": "stdout",
          "text": [
            "{'New York': {'total customer': 2, 'age range': 0}, 'San Francisco': {'total customer': 2, 'age range': 2}, 'Chicago': {'total customer': 2, 'age range': 1}}\n"
          ]
        }
      ]
    },
    {
      "cell_type": "code",
      "source": [
        "# 4) Which location has the highest proportion of female customers?\n",
        "\n",
        "female_customer = {}\n",
        "\n",
        "for f in customers:\n",
        "  location = f[\"location\"]\n",
        "  gender = f[\"gender\"]\n",
        "\n",
        "  if location not in female_customer:\n",
        "    female_customer[location] = {\"total customer\": 0, \"female customer\": 0}\n",
        "\n",
        "  female_customer[location][\"total customer\"] += 1\n",
        "\n",
        "  if gender.lower() == \"female\":\n",
        "    female_customer[location][\"female customer\"] += 1\n",
        "\n",
        "print(female_customer)"
      ],
      "metadata": {
        "colab": {
          "base_uri": "https://localhost:8080/"
        },
        "id": "a-CzaTGx1oWd",
        "outputId": "79dbea6c-980b-4227-eac0-7971b1e5a716"
      },
      "execution_count": null,
      "outputs": [
        {
          "output_type": "stream",
          "name": "stdout",
          "text": [
            "{'New York': {'total customer': 2, 'female customer': 0}, 'San Francisco': {'total customer': 2, 'female customer': 2}, 'Chicago': {'total customer': 2, 'female customer': 1}}\n"
          ]
        }
      ]
    },
    {
      "cell_type": "code",
      "source": [
        "# 5) How does the average age of our customers vary by location?\n",
        "\n",
        "average_age = {}\n",
        "\n",
        "for customer in customers:\n",
        "  location = customer[\"location\"]\n",
        "  age = customer[\"age\"]\n",
        "\n",
        "  if location not in average_age:\n",
        "    average_age[location] = {\"total age\":0, \"customer count\": 0}\n",
        "\n",
        "  average_age[location][\"total age\"] += 1\n",
        "  average_age[location][\"customer count\"] += 1\n",
        "\n",
        "average_age"
      ],
      "metadata": {
        "colab": {
          "base_uri": "https://localhost:8080/"
        },
        "id": "5Of9IZva3Foq",
        "outputId": "9114709d-80ea-4153-ce20-4093f4e1f362"
      },
      "execution_count": null,
      "outputs": [
        {
          "output_type": "execute_result",
          "data": {
            "text/plain": [
              "{'New York': {'total age': 2, 'customer count': 2},\n",
              " 'San Francisco': {'total age': 2, 'customer count': 2},\n",
              " 'Chicago': {'total age': 2, 'customer count': 2}}"
            ]
          },
          "metadata": {},
          "execution_count": 49
        }
      ]
    },
    {
      "cell_type": "markdown",
      "source": [
        "## **Activity 3:**"
      ],
      "metadata": {
        "id": "NiaGjg0bPYtH"
      }
    },
    {
      "cell_type": "markdown",
      "source": [
        "### **Sales Data on XML File:**\n",
        "\n",
        "A company has an XML file containing data on their sales, including the date, the product name, the sales amount, and the customer name. The company is interested in analyzing this data to gain insights into their sales patterns.\n",
        "\n",
        "How can they use data wrangling techniques in Python to answer some key questions about their sales data?\n",
        "\n",
        "Here are some example questions that the company may want to answer:\n",
        "\n",
        "1. What is the total sales amount for each product?\n",
        "2. Which product has the highest sales amount?\n",
        "3. What is the average sales amount per day?\n",
        "4. Which customer has the highest total sales amount?\n",
        "5. What is the sales amount trend over time?"
      ],
      "metadata": {
        "id": "SDCDAi0UPaqt"
      }
    },
    {
      "cell_type": "markdown",
      "source": [
        "![xml-file.png](data:image/png;base64,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)"
      ],
      "metadata": {
        "id": "nXmUKULpmcIf"
      }
    },
    {
      "cell_type": "code",
      "source": [
        "# Write your code here\n",
        "import xml.etree.ElementTree as ET"
      ],
      "metadata": {
        "id": "yxbLqNuePzZO"
      },
      "execution_count": null,
      "outputs": []
    },
    {
      "cell_type": "code",
      "source": [
        "# import data\n",
        "a = ET.parse(\"/content/drive/MyDrive/Diff data types/Copy of sales_data.xml\")\n",
        "root = a.getroot()"
      ],
      "metadata": {
        "id": "7TY7ECDIJPHC"
      },
      "execution_count": null,
      "outputs": []
    },
    {
      "cell_type": "code",
      "source": [
        "# 1) What is the total sales amount for each product?\n",
        "\n",
        "total_sale_amount = {}\n",
        "\n",
        "for sale in root.findall(\"sale\"):\n",
        "  product = sale.find(\"product\").text\n",
        "  amount = float(sale.find(\"amount\").text)\n",
        "\n",
        "  if product not in total_sale_amount:\n",
        "    total_sale_amount[product] = 0\n",
        "\n",
        "  total_sale_amount[product] += amount\n",
        "\n",
        "print(total_sale_amount)"
      ],
      "metadata": {
        "colab": {
          "base_uri": "https://localhost:8080/"
        },
        "id": "1l6nIvMOJiaL",
        "outputId": "0b6ac150-d322-4024-a3fc-75f6222fc2e7"
      },
      "execution_count": null,
      "outputs": [
        {
          "output_type": "stream",
          "name": "stdout",
          "text": [
            "{'Product A': 4500.0, 'Product B': 7500.0}\n"
          ]
        }
      ]
    },
    {
      "cell_type": "code",
      "source": [
        "# 2) Which product has the highest sales amount?\n",
        "\n",
        "highest_sale_product = max(total_sale_amount)\n",
        "\n",
        "print(highest_sale_product)"
      ],
      "metadata": {
        "colab": {
          "base_uri": "https://localhost:8080/"
        },
        "id": "y5nGveX5JiQB",
        "outputId": "779fb0df-b1d6-4058-c6e4-13cc762b8ae9"
      },
      "execution_count": null,
      "outputs": [
        {
          "output_type": "stream",
          "name": "stdout",
          "text": [
            "Product B\n"
          ]
        }
      ]
    },
    {
      "cell_type": "code",
      "source": [
        "# 3) What is the average sales amount per day?\n",
        "\n",
        "# importing collection to print day\n",
        "from collections import defaultdict as df"
      ],
      "metadata": {
        "id": "NpNkcMlHMSzU"
      },
      "execution_count": null,
      "outputs": []
    },
    {
      "cell_type": "code",
      "source": [
        "sale_date = df(list)\n",
        "\n",
        "for sale in root.findall(\"sale\"):\n",
        "  date = sale.find(\"date\").text\n",
        "  amount = eval(sale.find(\"amount\").text)\n",
        "  sale_date[date].append(amount)\n",
        "print(\"sale by date\", sale_date)\n",
        "\n",
        "print()\n",
        "\n",
        "print(\"Average sale per date\")\n",
        "avg_sale_per_day = {}\n",
        "\n",
        "for date, sales in sale_date.items():\n",
        "  avg_sale_per_day[date] = sum(sales) / len(sales)\n",
        "\n",
        "print(avg_sale_per_day)\n"
      ],
      "metadata": {
        "colab": {
          "base_uri": "https://localhost:8080/"
        },
        "id": "c8XUtFlYMSp7",
        "outputId": "cd835f56-288c-46ab-98c0-77d9635b6f15"
      },
      "execution_count": null,
      "outputs": [
        {
          "output_type": "stream",
          "name": "stdout",
          "text": [
            "sale by date defaultdict(<class 'list'>, {'2022-01-01': [1000, 2000], '2022-01-02': [1500, 2500], '2022-01-03': [2000, 3000]})\n",
            "\n",
            "Average sale per date\n",
            "{'2022-01-01': 1500.0, '2022-01-02': 2000.0, '2022-01-03': 2500.0}\n"
          ]
        }
      ]
    },
    {
      "cell_type": "code",
      "source": [
        "# 4) Which customer has the highest total sales amount?\n",
        "\n",
        "customer_highest_sale = {}\n",
        "\n",
        "# cut copy 1st 3 line(for loop) from 3rd question.\n",
        "# change date to customer\n",
        "for sale in root.findall(\"sale\"):\n",
        "  customer = sale.find(\"customer\").text\n",
        "  amount = eval(sale.find(\"amount\").text)\n",
        "\n",
        "  if customer not in customer_highest_sale:\n",
        "    customer_highest_sale[customer] = 0\n",
        "\n",
        "  customer_highest_sale[customer] += amount\n",
        "\n",
        "print(\"dict of customer and amount\", customer_highest_sale)\n",
        "\n",
        "print()\n",
        "\n",
        "highest_sale = max(customer_highest_sale, key=customer_highest_sale.get)\n",
        "print(f\"customer with the highest total sales amount is: {highest_sale} \")"
      ],
      "metadata": {
        "colab": {
          "base_uri": "https://localhost:8080/"
        },
        "id": "U-e0YTohOd62",
        "outputId": "df17c713-2508-4a81-bf7d-90df305ee85b"
      },
      "execution_count": null,
      "outputs": [
        {
          "output_type": "stream",
          "name": "stdout",
          "text": [
            "dict of customer and amount {'John': 1000, 'Jane': 2000, 'Bob': 1500, 'Alice': 2500, 'Tom': 2000, 'Sue': 3000}\n",
            "\n",
            "customer with the highest total sales amount is: Sue \n"
          ]
        }
      ]
    },
    {
      "cell_type": "code",
      "source": [
        "# 5) What is the sales amount trend over time?\n",
        "sales_amount = []\n",
        "date_time = []\n",
        "\n",
        "# cut copying 1st 3 line(for loop) from 3rd question.\n",
        "for sale in root.findall(\"sale\"):\n",
        "  date = sale.find(\"date\").text\n",
        "  amount = eval(sale.find(\"amount\").text)\n",
        "\n",
        "  date_time.append(date)\n",
        "  sales_amount.append(amount)\n",
        "\n",
        "print(date_time, sales_amount)"
      ],
      "metadata": {
        "colab": {
          "base_uri": "https://localhost:8080/"
        },
        "id": "FwrSjC_FQ3aW",
        "outputId": "58d07f64-467a-47b9-d55b-28b8330c986f"
      },
      "execution_count": null,
      "outputs": [
        {
          "output_type": "stream",
          "name": "stdout",
          "text": [
            "['2022-01-01', '2022-01-01', '2022-01-02', '2022-01-02', '2022-01-03', '2022-01-03'] [1000, 2000, 1500, 2500, 2000, 3000]\n"
          ]
        }
      ]
    },
    {
      "cell_type": "code",
      "source": [
        "# i think the 5th que is asking for a graph.\n",
        "\n",
        "# importing matplotlib\n",
        "import matplotlib.pyplot as plt"
      ],
      "metadata": {
        "id": "LANeThrxOd02"
      },
      "execution_count": null,
      "outputs": []
    },
    {
      "cell_type": "code",
      "source": [
        "plt.plot(date_time, sales_amount)\n",
        "plt.xlabel(\"Date\")\n",
        "plt.ylabel(\"Amount\")\n",
        "plt.title(\"sales amount trend\")\n",
        "\n",
        "plt.show()"
      ],
      "metadata": {
        "colab": {
          "base_uri": "https://localhost:8080/",
          "height": 472
        },
        "id": "BMW3ViMmI5Tf",
        "outputId": "05c83b5b-5a1f-47f0-bd20-c59b23850ab0"
      },
      "execution_count": null,
      "outputs": [
        {
          "output_type": "display_data",
          "data": {
            "text/plain": [
              "<Figure size 640x480 with 1 Axes>"
            ],
            "image/png": "[encoded data removed]"
          },
          "metadata": {}
        }
      ]
    }
  ]
}