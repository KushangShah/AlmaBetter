{
  "nbformat": 4,
  "nbformat_minor": 0,
  "metadata": {
    "colab": {
      "provenance": [],
      "collapsed_sections": [
        "KAFXt69zwZQk",
        "Ggsso0jm0D-7",
        "CyP3xZd5F0WW",
        "pVw7460NHYSk"
      ]
    },
    "kernelspec": {
      "name": "python3",
      "display_name": "Python 3"
    },
    "language_info": {
      "name": "python"
    }
  },
  "cells": [
    {
      "cell_type": "markdown",
      "source": [
        "## 🎉 Woohoo! It's time for another assignment!\n",
        "\n",
        "Are you ready to put your data management libraries knowledge to the test? 💪📊🐍\n",
        "\n",
        "Get ready to dive deep into Python's data management libraries. You'll be a pro at handling different data management libraries in no time! 🤓👨‍💻🔍\n",
        "\n",
        "So buckle up and let's get started! Good luck! 🍀🚀"
      ],
      "metadata": {
        "id": "0fjGahSSOT89"
      }
    },
    {
      "cell_type": "markdown",
      "source": [
        "#### All the datasets required for this assignment can be found here: https://drive.google.com/drive/folders/1DRuh9HU8ZP9qsn3Dzh-Z4QySnqlknwbl?usp=sharing\n",
        "\n",
        "#### You can download the data and start working with the assignment."
      ],
      "metadata": {
        "id": "R8AEK-4qUru-"
      }
    },
    {
      "cell_type": "code",
      "source": [
        "from google.colab import drive\n",
        "drive.mount(\"/content/drive\")"
      ],
      "metadata": {
        "colab": {
          "base_uri": "https://localhost:8080/"
        },
        "id": "t3P1IbDnYmr6",
        "outputId": "83382f43-c377-42c5-df84-81f93743ff30"
      },
      "execution_count": null,
      "outputs": [
        {
          "output_type": "stream",
          "name": "stdout",
          "text": [
            "Mounted at /content/drive\n"
          ]
        }
      ]
    },
    {
      "cell_type": "code",
      "source": [
        "input_csv = \"/content/drive/MyDrive/CSV files/input.csv\""
      ],
      "metadata": {
        "id": "lFUJjI6lZCz-"
      },
      "execution_count": null,
      "outputs": []
    },
    {
      "cell_type": "markdown",
      "source": [
        "## **Activity 1:**"
      ],
      "metadata": {
        "id": "KAFXt69zwZQk"
      }
    },
    {
      "cell_type": "markdown",
      "source": [
        "### **Password Validation using Regex:**\n",
        "\n",
        "You are developing a web application that requires users to create a password with certain requirements. The password must be at least 8 characters long and include at least one uppercase letter, one lowercase letter, one digit, and one special character. You decide to use regular expressions to validate passwords entered by users.\n",
        "\n",
        "1. Write a Python program that validates passwords according to the requirements specified.\n",
        "2. Your program should prompt the user to enter a password, validate the password using regular expressions, and print a message indicating whether the password is valid or invalid.\n",
        "3. Test your program with several passwords that meet the requirements and several passwords that do not meet the requirements, and include your test cases in your submission."
      ],
      "metadata": {
        "id": "9WZ_yOyRyp_i"
      }
    },
    {
      "cell_type": "markdown",
      "source": [
        "![password.png](data:image/png;base64,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)"
      ],
      "metadata": {
        "id": "kKPCEaIFQKRD"
      }
    },
    {
      "cell_type": "code",
      "source": [
        "import re\n",
        "\n",
        "def valid_password(password):\n",
        "  requirement = r\"^(?=.*[A-Z])(?=.*[a-z])(?=.*\\d)(?=.*[!@#$%^&*]).{8,}$\"\n",
        "\n",
        "  if re.match(requirement, password):\n",
        "    print(\"Valid Password\")\n",
        "  else:\n",
        "    print(\"Invalid Password\")\n",
        "\n",
        "# output\n",
        "password = input(\"Enter Password here: \")\n",
        "\n",
        "print(valid_password(password))"
      ],
      "metadata": {
        "colab": {
          "base_uri": "https://localhost:8080/"
        },
        "id": "zaoh5ClYcIKS",
        "outputId": "5b1f2e99-0d1d-4a64-9c15-e2326625d292"
      },
      "execution_count": null,
      "outputs": [
        {
          "output_type": "stream",
          "name": "stdout",
          "text": [
            "Enter Password here: CORNhu@1\n",
            "Valid Password\n",
            "None\n"
          ]
        }
      ]
    },
    {
      "cell_type": "markdown",
      "source": [
        "👉 **Instructions:**\n",
        "\n",
        "1. Understand the requirements: Read the case study carefully and make sure you understand the requirements for the password validation program. In this case, the password must be at least 8 characters long and include at least one uppercase letter, one lowercase letter, one digit, and one special character.\n",
        "\n",
        "2. Define the regular expression: Use regular expressions to define a pattern that matches passwords that meet the requirements specified in the case study. In this case, you could define a regular expression that checks for an uppercase letter, a lowercase letter, a digit, and a special character, and requires the password to be at least 8 characters long.\n",
        "\n",
        "3. Write the Python program: Use the regular expression to validate passwords entered by users. Prompt the user to enter a password, validate the password using the regular expression, and print a message indicating whether the password is valid or invalid.\n",
        "\n",
        "4. Test the program: Test the program with several passwords that meet and do not meet the requirements, and make sure the program correctly identifies which passwords are valid and which passwords are invalid."
      ],
      "metadata": {
        "id": "unfX0Nytzkh2"
      }
    },
    {
      "cell_type": "markdown",
      "source": [
        "## **Activity 2:**"
      ],
      "metadata": {
        "id": "Ggsso0jm0D-7"
      }
    },
    {
      "cell_type": "markdown",
      "source": [
        "### **Remove Vowels using Regex:**\n",
        "\n",
        "You work as a data analyst for a marketing company that has collected a large amount of customer feedback data. The data is stored in a CSV file containing columns for customer ID, feedback text, and sentiment score (ranging from 0 to 10).\n",
        "\n",
        "The company wants to analyze the feedback text to identify common themes and issues that customers are experiencing, and they have asked you to preprocess the text data before performing the analysis. One of the preprocessing steps is to remove all vowels from the feedback text to simplify the analysis.\n",
        "\n",
        "Write a Python program that reads in the CSV file and removes all vowels from the feedback text using regular expressions. Save the modified data to a new CSV file with the same structure as the original file."
      ],
      "metadata": {
        "id": "qKuhvb_i0F6L"
      }
    },
    {
      "cell_type": "markdown",
      "source": [
        "![abc.png](data:image/png;base64,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)"
      ],
      "metadata": {
        "id": "lO6xsPsVQ0LU"
      }
    },
    {
      "cell_type": "code",
      "source": [
        "# Write your code here\n",
        "import csv\n",
        "import re"
      ],
      "metadata": {
        "id": "Wl5UrmnrQV4_"
      },
      "execution_count": null,
      "outputs": []
    },
    {
      "cell_type": "code",
      "source": [
        "vowel = r\"[aeiouAEIOU]\""
      ],
      "metadata": {
        "id": "9wLPpa6pgUY0"
      },
      "execution_count": null,
      "outputs": []
    },
    {
      "cell_type": "code",
      "source": [
        "with open(input_csv, 'r') as input_file:\n",
        "  reader = csv.DictReader(input_file)\n",
        "  [i for i in reader]"
      ],
      "metadata": {
        "id": "fgIjhZZN7QBH"
      },
      "execution_count": null,
      "outputs": []
    },
    {
      "cell_type": "code",
      "source": [
        "fields = reader.fieldnames\n",
        "fields"
      ],
      "metadata": {
        "id": "4XmZEeec7CmH",
        "outputId": "dcfede13-c0ad-4fc3-9a25-e15eafda06e7",
        "colab": {
          "base_uri": "https://localhost:8080/"
        }
      },
      "execution_count": null,
      "outputs": [
        {
          "output_type": "execute_result",
          "data": {
            "text/plain": [
              "['customer_id', 'feedback_text', 'sentiment_score']"
            ]
          },
          "metadata": {},
          "execution_count": 14
        }
      ]
    },
    {
      "cell_type": "code",
      "source": [
        "with open(input_csv, 'r') as input_file:\n",
        "  reader = csv.DictReader(input_file)\n",
        "\n",
        "  with open(\"/content/drive/MyDrive/CSV files/input.csv\", 'w') as output_file:\n",
        "    writer = csv.DictWriter(output_file, fieldnames=fields)\n",
        "    writer.writeheader()\n",
        "    for row in reader:\n",
        "      new_text = re.sub(vowel, '', row['feedback_text'])\n",
        "      row['feedback_text'] = new_text\n",
        "      writer.writerow(row)\n",
        "input_file.close()\n",
        "output_file.close()"
      ],
      "metadata": {
        "colab": {
          "base_uri": "https://localhost:8080/",
          "height": 236
        },
        "id": "Ja8Rer9ehEFo",
        "outputId": "fbe123dd-744a-45ee-cb63-5a2d65867610"
      },
      "execution_count": null,
      "outputs": [
        {
          "output_type": "error",
          "ename": "PermissionError",
          "evalue": "ignored",
          "traceback": [
            "\u001b[0;31m---------------------------------------------------------------------------\u001b[0m",
            "\u001b[0;31mPermissionError\u001b[0m                           Traceback (most recent call last)",
            "\u001b[0;32m<ipython-input-16-8e9230f50dc7>\u001b[0m in \u001b[0;36m<cell line: 1>\u001b[0;34m()\u001b[0m\n\u001b[1;32m      2\u001b[0m   \u001b[0mreader\u001b[0m \u001b[0;34m=\u001b[0m \u001b[0mcsv\u001b[0m\u001b[0;34m.\u001b[0m\u001b[0mDictReader\u001b[0m\u001b[0;34m(\u001b[0m\u001b[0minput_file\u001b[0m\u001b[0;34m)\u001b[0m\u001b[0;34m\u001b[0m\u001b[0;34m\u001b[0m\u001b[0m\n\u001b[1;32m      3\u001b[0m \u001b[0;34m\u001b[0m\u001b[0m\n\u001b[0;32m----> 4\u001b[0;31m   \u001b[0;32mwith\u001b[0m \u001b[0mopen\u001b[0m\u001b[0;34m(\u001b[0m\u001b[0;34m\"/content/drive/MyDrive/CSV files/input.csv\"\u001b[0m\u001b[0;34m,\u001b[0m \u001b[0;34m'w'\u001b[0m\u001b[0;34m)\u001b[0m \u001b[0;32mas\u001b[0m \u001b[0moutput_file\u001b[0m\u001b[0;34m:\u001b[0m\u001b[0;34m\u001b[0m\u001b[0;34m\u001b[0m\u001b[0m\n\u001b[0m\u001b[1;32m      5\u001b[0m     \u001b[0mwriter\u001b[0m \u001b[0;34m=\u001b[0m \u001b[0mcsv\u001b[0m\u001b[0;34m.\u001b[0m\u001b[0mDictWriter\u001b[0m\u001b[0;34m(\u001b[0m\u001b[0moutput_file\u001b[0m\u001b[0;34m,\u001b[0m \u001b[0mfieldnames\u001b[0m\u001b[0;34m=\u001b[0m\u001b[0mfields\u001b[0m\u001b[0;34m)\u001b[0m\u001b[0;34m\u001b[0m\u001b[0;34m\u001b[0m\u001b[0m\n\u001b[1;32m      6\u001b[0m     \u001b[0mwriter\u001b[0m\u001b[0;34m.\u001b[0m\u001b[0mwriteheader\u001b[0m\u001b[0;34m(\u001b[0m\u001b[0;34m)\u001b[0m\u001b[0;34m\u001b[0m\u001b[0;34m\u001b[0m\u001b[0m\n",
            "\u001b[0;31mPermissionError\u001b[0m: [Errno 1] Operation not permitted: '/content/drive/MyDrive/CSV files/input.csv'"
          ]
        }
      ]
    },
    {
      "cell_type": "code",
      "source": [],
      "metadata": {
        "id": "aufnBHV9ghia"
      },
      "execution_count": null,
      "outputs": []
    },
    {
      "cell_type": "markdown",
      "source": [
        "👉 **Instructions:**\n",
        "\n",
        "1. Import necessary libraries - 'csv' and 're'.\n",
        "2. Define regular expression pattern to match vowels.\n",
        "3. Open the input CSV file using the 'open()' function with 'r' mode to read the file.\n",
        "4. Open the output CSV file using the 'open()' function with 'w' mode to write the file.\n",
        "5. Create a CSV reader object using the 'csv.DictReader()' function for the input file.\n",
        "6. Create a CSV writer object using the 'csv.DictWriter()' function for the output file and write the header using the 'writeheader()' method.\n",
        "7. Iterate over each row in the CSV reader object using a for loop.\n",
        "8. Replace the vowels in the 'feedback_text' column of the current row using the 're.sub()' function with the vowel pattern and assign the modified text to the same column.\n",
        "9. Write the modified row to the output CSV file using the 'writerow()' method.\n",
        "Close both input and output CSV files using the 'close()' method."
      ],
      "metadata": {
        "id": "bscyuaEpKBcP"
      }
    },
    {
      "cell_type": "markdown",
      "source": [
        "## **Activity 3:**"
      ],
      "metadata": {
        "id": "0oOBC_XkFx7E"
      }
    },
    {
      "cell_type": "markdown",
      "source": [
        "### **Date Validation using Regex:**\n",
        "\n",
        "ABC company wants to create an application that validates the dates entered by users. As a Python developer, you have been assigned the task of developing this application using regular expressions. The application should validate dates entered in the format of DD/MM/YYYY or MM/DD/YYYY and ensure that the values for day, month, and year are valid.\n",
        "\n",
        "Design a Python program to solve this problem for ABC company. Provide code, documentation, and test cases."
      ],
      "metadata": {
        "id": "CyP3xZd5F0WW"
      }
    },
    {
      "cell_type": "markdown",
      "source": [
        "![organization.png](data:image/png;base64,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)"
      ],
      "metadata": {
        "id": "n_7YGNUJRCni"
      }
    },
    {
      "cell_type": "code",
      "source": [
        "# Write your code here\n",
        "import re\n",
        "\n",
        "def validate_date(date):\n",
        "  dd_mm_yyyy = r\"^(0[1-9]|[1-2]\\d|3[01])[-./](0[1-9]|1[0-2])[-./](\\d{4})$\"\n",
        "  mm_dd_yyyy = r\"^(0[1-9]|1[0-2])[-./](0[1-9]|[1-2]\\d|3[01])[-./](\\d{4})$\"\n",
        "\n",
        "  if re.match(dd_mm_yyyy, date):\n",
        "    match = re.search(dd_mm_yyyy, date)\n",
        "\n",
        "  elif re.match(mm_dd_yyyy, date):\n",
        "    match = re.search(mm_dd_yyyy, date)\n",
        "\n",
        "  else:\n",
        "    return False\n",
        "\n",
        "  print(match.group(1), match.group(2), match.group(3))\n",
        "  #print(match.group(2))\n",
        "  #print(match.group(3))\n",
        "\n",
        "date = input(\"Enter date in DD_MM_YYYY: \")\n",
        "print(validate_date(date))"
      ],
      "metadata": {
        "id": "Iw7hIK4FQ60T",
        "colab": {
          "base_uri": "https://localhost:8080/"
        },
        "outputId": "ed7e457d-78b9-4fb5-81a0-3ab9f556eec0"
      },
      "execution_count": null,
      "outputs": [
        {
          "output_type": "stream",
          "name": "stdout",
          "text": [
            "Enter date in DD_MM_YYYY: 09/08/2000\n",
            "09 08 2000\n",
            "None\n"
          ]
        }
      ]
    },
    {
      "cell_type": "markdown",
      "source": [
        "👉 **Instructions:**\n",
        "\n",
        "1. Import the regular expression module by using the command import re.\n",
        "2. Define a function named validate_date that takes one parameter date_str which represents the date to be validated.\n",
        "3. Inside the function, define two regular expression patterns dd_mm_yyyy_pattern and mm_dd_yyyy_pattern. These patterns represent valid date formats, where the day, month, and year are separated by either a dot (.), a slash (/), or a hyphen (-).\n",
        "4. Use the re.match method to check if the date_str parameter matches any of the two patterns defined. If there is a match, use the re.search method to extract the day, month, and year components from the date string. If there is no match, return False, as the date is not in a valid format.\n",
        "5. Check if the extracted day, month, and year values are valid. If any of the values are not valid, return False.\n",
        "6. If the date string passes all checks, return True to indicate that it is a valid date.\n",
        "7. Test the function by calling it with several different date strings, and print out whether each date is valid or invalid."
      ],
      "metadata": {
        "id": "hjNlmcZDGktM"
      }
    },
    {
      "cell_type": "markdown",
      "source": [
        "## **Activity 4:**"
      ],
      "metadata": {
        "id": "AVi6RrcLHVW0"
      }
    },
    {
      "cell_type": "markdown",
      "source": [
        "### **Age Verification for Social Media:**\n",
        "\n",
        "You are working on a team responsible for building a social media platform. As part of the registration process, you need to verify the age of the users to ensure they are over 13 years old.\n",
        "\n",
        "To achieve this, you decided to use the datetime module to calculate the user's age based on their date of birth. If the calculated age is less than 13, the user should not be allowed to register on the platform.\n",
        "\n",
        "Write a Python program that prompts the user to enter their date of birth, and then uses the datetime module to calculate their age. If the age is less than 13, print an error message and terminate the program. Otherwise, print a success message indicating that the user is eligible to register on the platform.\n",
        "\n",
        "Assume that the date of birth is entered in the format of DD/MM/YYYY.\n",
        "\n",
        "Bonus: If the user is eligible to register, also print their age in years, months, and days."
      ],
      "metadata": {
        "id": "pVw7460NHYSk"
      }
    },
    {
      "cell_type": "markdown",
      "source": [
        "![facebook.png](data:image/png;base64,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)"
      ],
      "metadata": {
        "id": "oE3Pa_BwRbQC"
      }
    },
    {
      "cell_type": "code",
      "source": [
        "from dateutil.relativedelta import relativedelta\n",
        "from datetime import date\n",
        "import datetime\n",
        "\n",
        "def calculate_age(birth_date):\n",
        "    today = date.today()\n",
        "    age = relativedelta(today, birth_date)\n",
        "    return age"
      ],
      "metadata": {
        "id": "pQidocbvRGYa"
      },
      "execution_count": null,
      "outputs": []
    },
    {
      "cell_type": "code",
      "source": [
        "calculate_age(datetime.datetime.strptime('2002-08-05', \"%Y-%m-%d\").date())\n"
      ],
      "metadata": {
        "colab": {
          "base_uri": "https://localhost:8080/"
        },
        "id": "tJ5Z1VY2IzK_",
        "outputId": "48e26449-93fa-47f2-d2a3-6132dc65e9d6"
      },
      "execution_count": null,
      "outputs": [
        {
          "output_type": "execute_result",
          "data": {
            "text/plain": [
              "relativedelta(years=+20, months=+11, days=+4)"
            ]
          },
          "metadata": {},
          "execution_count": 5
        }
      ]
    },
    {
      "cell_type": "code",
      "source": [
        "birthdate_str = input(\"Enter your birthdate (YYYY-MM-DD): \")\n",
        "birthdate = datetime.datetime.strptime(birthdate_str, \"%Y-%m-%d\").date()\n",
        "\n",
        "age = calculate_age(birthdate)\n",
        "\n",
        "print(f\"Age: {age.years} years, {age.months} months, {age.days} days\")\n",
        "\n",
        "if age.years >= 13:\n",
        "    print(\"You are allowed to register.\")\n",
        "else:\n",
        "    print(\"You are not allowed to register.\")"
      ],
      "metadata": {
        "colab": {
          "base_uri": "https://localhost:8080/"
        },
        "id": "fJW99NnVI03W",
        "outputId": "880cfe9e-d848-402e-993d-f8c5b6d72fcb"
      },
      "execution_count": null,
      "outputs": [
        {
          "output_type": "stream",
          "name": "stdout",
          "text": [
            "Enter your birthdate (YYYY-MM-DD): 2002-08-05\n",
            "Age: 20 years, 11 months, 4 days\n",
            "You are allowed to register.\n"
          ]
        }
      ]
    },
    {
      "cell_type": "markdown",
      "source": [
        "👉 **Instructions:**\n",
        "\n",
        "1. Import the datetime module using the import statement.\n",
        "2. Define a function calculate_age that takes in a birthdate as an argument.\n",
        "3. Get the current date using datetime.date.today() function.\n",
        "4. Calculate the age by subtracting the birth year from the current year, and subtracting 1 if the birth month and day are later than the current month and day, respectively.\n",
        "5. Return the calculated age.\n",
        "6. Prompt the user to enter their birthdate in the format 'YYYY-MM-DD' using the input() function and store it in the variable birthdate_str.\n",
        "7. Convert the birthdate string to a datetime object using the datetime.datetime.strptime() function and store it in the variable birthdate.\n",
        "8. Call the calculate_age() function with birthdate as an argument and store the result in the variable age.\n",
        "9. Calculate the age in months and days by subtracting the birthdate from the current date using the - operator, getting the number of days using the .days attribute, dividing by 30, and getting the remainder using the % operator.\n",
        "10. Print the calculated age in years, months, and days using the print() function.\n",
        "11. Check if the user is allowed to register or not by comparing their age with 13 and print the result using the if statement and print() function."
      ],
      "metadata": {
        "id": "BtBZfDS9Iast"
      }
    }
  ]
}