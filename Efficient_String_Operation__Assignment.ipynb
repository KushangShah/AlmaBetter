{
  "nbformat": 4,
  "nbformat_minor": 0,
  "metadata": {
    "colab": {
      "provenance": [],
      "include_colab_link": true
    },
    "kernelspec": {
      "name": "python3",
      "display_name": "Python 3"
    },
    "language_info": {
      "name": "python"
    }
  },
  "cells": [
    {
      "cell_type": "markdown",
      "metadata": {
        "id": "view-in-github",
        "colab_type": "text"
      },
      "source": [
        "<a href=\"https://colab.research.google.com/github/KushangShah/AlmaBetter_Assignment/blob/main/Efficient_String_Operation__Assignment.ipynb\" target=\"_parent\"><img src=\"https://colab.research.google.com/assets/colab-badge.svg\" alt=\"Open In Colab\"/></a>"
      ]
    },
    {
      "cell_type": "markdown",
      "source": [
        "## 🎉 Hi there! Welcome to today's assignment on Data Structure Fundamentals in Python!\n",
        "\n",
        "Are you ready to put your skills to the test? Let's dive right in! 💪📚\n",
        "\n",
        "In this assignment, you will be working with string manipulation and array operations in Python. Don't worry if you're feeling a bit unsure - you got this! 🤞\n",
        "\n",
        "Good luck! 🍀🚀"
      ],
      "metadata": {
        "id": "pUz3IadejwmN"
      }
    },
    {
      "cell_type": "markdown",
      "source": [
        "## **Activity 1:**"
      ],
      "metadata": {
        "id": "IfWjaPIPfKxg"
      }
    },
    {
      "cell_type": "markdown",
      "source": [
        "### **Array Manipulation** 📊📈\n",
        "\n",
        "Create an array of integers and perform the following activities on the array:\n",
        "\n",
        "🔹 Calculate the sum of all the elements in the array.\n",
        "\n",
        "🔹 Find the maximum value in the array.\n",
        "\n",
        "🔹 Find the minimum value in the array.\n",
        "\n",
        "🔹 Sort the array in ascending order.\n",
        "\n",
        "🔹 Reverse the array\n",
        "\n",
        "\n",
        "\n",
        "Additionally, find the time and space complexity of the code you have developed."
      ],
      "metadata": {
        "id": "PjuTFPF9eev1"
      }
    },
    {
      "cell_type": "code",
      "source": [
        "# Code\n",
        "import numpy as np\n",
        "\n",
        "lst = np.array([[1, 9, 2, 8, 3, 7, 4, 6, 5, 5, 6, 4, 7, 3, 8, 2, 9, 1, 9, 8, 7, 6, 5, 4, 3, 2, 1]])\n",
        "\n",
        "sum_of_lst = np.sum(lst)\n",
        "print(\"Sum of element in list is: \", sum_of_lst)\n",
        "print()\n",
        "max_val_lst = np.max(lst)\n",
        "print(\"Maximum value in the list is: \", max_val_lst)\n",
        "print()\n",
        "min_val_lst = np.min(lst)\n",
        "print(\"Minimun value in the list is: \", min_val_lst)\n",
        "print()\n",
        "sort_ascend_lst = np.sort(lst)\n",
        "print(\"Ascending value of list is: \", sort_ascend_lst)\n",
        "print()\n",
        "reverse_lst = np.flip(lst)\n",
        "print(\"Reversed given list: \", reverse_lst)\n"
      ],
      "metadata": {
        "id": "bH4GH5L8fY__",
        "colab": {
          "base_uri": "https://localhost:8080/"
        },
        "outputId": "c70712c1-f4c8-4392-e5e4-ae8d971180cd"
      },
      "execution_count": 2,
      "outputs": [
        {
          "output_type": "stream",
          "name": "stdout",
          "text": [
            "Sum of element in list is:  135\n",
            "\n",
            "Maximum value in the list is:  9\n",
            "\n",
            "Minimun value in the list is:  1\n",
            "\n",
            "Ascending value of list is:  [[1 1 1 2 2 2 3 3 3 4 4 4 5 5 5 6 6 6 7 7 7 8 8 8 9 9 9]]\n",
            "\n",
            "Reversed given list:  [[1 2 3 4 5 6 7 8 9 1 9 2 8 3 7 4 6 5 5 6 4 7 3 8 2 9 1]]\n"
          ]
        }
      ]
    },
    {
      "cell_type": "markdown",
      "source": [
        "👉 **Instruction:**\n",
        "\n",
        "1. Import the NumPy library or module first.\n",
        "2. You can create an array by using np.array([]) enclosing the elements in square brackets, separated by commas.\n",
        "3. Use the built-in functions np.sum(), np.mean, np.max(), and np.min() to calculate the sum, mean, maximum, and minimum values in the array.\n",
        "4. Use the built-in function np.sort() to sort the array in ascending order."
      ],
      "metadata": {
        "id": "fHXRXcUpfol3"
      }
    },
    {
      "cell_type": "markdown",
      "source": [
        "## **Activity 2:**"
      ],
      "metadata": {
        "id": "f4wzTZqrfVF_"
      }
    },
    {
      "cell_type": "markdown",
      "source": [
        "### **Advanced Array Manipulation** 🏋️‍♂️📊🔍\n",
        "\n",
        "In this activity, you will be manipulating arrays in a variety of ways. You will perform advanced array slicing, concatenation, and searching operations. \n",
        "\n",
        "1. Create an array of 10 random integers between 0 and 100.\n",
        "2. Select the first 5 elements of the array using slicing.\n",
        "3. Select the last 5 elements of the array using slicing.\n",
        "4. Concatenate the first and last five elements of the array using list concatenation.\n",
        "5. Flatten a 2D array using list comprehension.\n",
        "6. Find the index of the maximum value in the array using the max function and the index function.\n",
        "7. Find the indices of all values in the array that are greater than 5 using list comprehension.\n",
        "\n",
        "\n",
        "Additionally, find the time and space complexity of the code you have developed."
      ],
      "metadata": {
        "id": "Dimi78-pf56o"
      }
    },
    {
      "cell_type": "code",
      "source": [
        "# Code\n",
        "import numpy as np\n",
        "\n",
        "arr = np.random.randint(0, 101, size=10)\n",
        "print(\"Original array:\", arr)\n",
        "\n",
        "# first 5 elements using slicing\n",
        "first_five = arr[:5]\n",
        "print(\"First five elements:\", first_five)\n",
        "\n",
        "# last 5 elements using slicing\n",
        "last_five = arr[-5:]\n",
        "print(\"Last five elements:\", last_five)\n",
        "\n",
        "# Concatenate the first and last five elements \n",
        "concatenated = first_five.tolist() + last_five.tolist()\n",
        "print(\"Concatenated array:\", concatenated)\n",
        "\n",
        "# 2D array using list comprehension\n",
        "arr_2d = np.array([[1, 2, 3], [4, 5, 6]])\n",
        "flattened = [element for sublist in arr_2d for element in sublist]\n",
        "print(\"Flattened array:\", flattened)\n",
        "\n",
        "# Find the index of the maximum value in the array using the max function and the index function\n",
        "max_value = np.max(arr)\n",
        "max_index = np.argmax(arr)\n",
        "print(\"Maximum value:\", max_value)\n",
        "print(\"Index of maximum value:\", max_index)\n",
        "\n",
        "# Find the indices of all values in the array that are greater than 5 using list comprehension\n",
        "indices_greater_than_5 = [index for index, value in enumerate(arr) if value > 5]\n",
        "print(\"Indices of values greater than 5:\", indices_greater_than_5)\n"
      ],
      "metadata": {
        "id": "CqGgmNAwfuCr",
        "colab": {
          "base_uri": "https://localhost:8080/"
        },
        "outputId": "295b0ac0-8a63-4c36-ce32-6ee83c737ec4"
      },
      "execution_count": 3,
      "outputs": [
        {
          "output_type": "stream",
          "name": "stdout",
          "text": [
            "Original array: [36  2 63 28 92 97 68 92 22 91]\n",
            "First five elements: [36  2 63 28 92]\n",
            "Last five elements: [97 68 92 22 91]\n",
            "Concatenated array: [36, 2, 63, 28, 92, 97, 68, 92, 22, 91]\n",
            "Flattened array: [1, 2, 3, 4, 5, 6]\n",
            "Maximum value: 97\n",
            "Index of maximum value: 5\n",
            "Indices of values greater than 5: [0, 2, 3, 4, 5, 6, 7, 8, 9]\n"
          ]
        }
      ]
    },
    {
      "cell_type": "markdown",
      "source": [
        "👉 **Instruction:**\n",
        "\n",
        "1. Use slicing to select subsets of arrays.\n",
        "2. Use list concatenation to combine multiple lists.\n",
        "3. Use list comprehension to flatten a 2D array.\n",
        "4. Use the max function to find the maximum value in a list.\n",
        "5. Use the index function to find the index of a value in a list.\n",
        "6. Use list comprehension to search for values in a list."
      ],
      "metadata": {
        "id": "s7V5Qto8gEEZ"
      }
    },
    {
      "cell_type": "markdown",
      "source": [
        "## **Activity 3:**"
      ],
      "metadata": {
        "id": "RFpA__wAgMkw"
      }
    },
    {
      "cell_type": "markdown",
      "source": [
        "### **String Manipulation Challenge** 🧩🔍🔠\n",
        "\n",
        "Create a Python function that takes in a string as an argument and performs the following tasks:\n",
        "\n",
        "1. Reverses the order of the words in the string\n",
        "2. Capitalizes the first letter of each word\n",
        "3. Replaces every instance of the letter 'a' with the '@' symbol\n",
        "4. Removes all vowels (a, e, i, o, u) from the string\n",
        "5. Use emojis to illustrate the instructions where appropriate.\n",
        "\n",
        "\n",
        "Additionally, find the time and space complexity of the code you have developed."
      ],
      "metadata": {
        "id": "bII3UiTIgI4q"
      }
    },
    {
      "cell_type": "code",
      "source": [
        "# Code\n"
      ],
      "metadata": {
        "id": "OiDfQ95NhgfG"
      },
      "execution_count": null,
      "outputs": []
    },
    {
      "cell_type": "code",
      "source": [
        "# Example Usage:\n"
      ],
      "metadata": {
        "id": "oxLVXybQhse9"
      },
      "execution_count": null,
      "outputs": []
    },
    {
      "cell_type": "markdown",
      "source": [
        "👉 **Intructions:**\n",
        "\n",
        "1. Remember to split the string into words using the split() method.\n",
        "2. Use a list comprehension to capitalize the first letter of each word.\n",
        "3. Use a for loop to iterate through each word and each letter in the word to remove vowels."
      ],
      "metadata": {
        "id": "MTTR7y0WhtzV"
      }
    },
    {
      "cell_type": "markdown",
      "source": [
        "## **Activity 4:**"
      ],
      "metadata": {
        "id": "3N8zqfRJgU8s"
      }
    },
    {
      "cell_type": "markdown",
      "source": [
        "### 🎭 **The Secret Message** 🕵️‍♀️📜💬\n",
        "\n",
        "A spy has left a secret message in a string. Your task is to decode the message by extracting certain characters from the string and rearranging them in a specific order to reveal the message.\n",
        "\n",
        "1. Define two string variables, one with your favorite emoji and one with your name.\n",
        "2. Concatenate the two strings together using the + operator and assign the result to a new variable.\n",
        "3. Convert the concatenated string to all uppercase letters using the .upper() method and assign the result to a new variable.\n",
        "4. Replace the emoji in the original concatenated string with a new emoji using the .replace() method and assign the result to a new variable.\n",
        "5. Find the position of the letter \"h\" in the original concatenated string using the .find() method and assign the result to a new variable.\n",
        "\n",
        "\n",
        "\n",
        "Additionally, find the time and space complexity of the code you have developed.\n",
        "\n"
      ],
      "metadata": {
        "id": "Z204GmIGhv9X"
      }
    },
    {
      "cell_type": "code",
      "source": [
        "# Code\n"
      ],
      "metadata": {
        "id": "T4IT37QZjMOH"
      },
      "execution_count": null,
      "outputs": []
    },
    {
      "cell_type": "markdown",
      "source": [
        "👉 **Instructions:**\n",
        "\n",
        "1. Use the + operator to concatenate strings\n",
        "2. Use the .upper() method to convert a string to uppercase\n",
        "3. Use the .replace() method to replace a substring with another substring\n",
        "4. Use the .find() method to find the position of a letter in the string"
      ],
      "metadata": {
        "id": "PgjanwQEjXEt"
      }
    },
    {
      "cell_type": "markdown",
      "source": [
        "## **Activity 5:**"
      ],
      "metadata": {
        "id": "UxX6hoaTGFF0"
      }
    },
    {
      "cell_type": "markdown",
      "source": [
        "### 🔢 **Subarray within the array** 🔢\n",
        "\n",
        "You are given an array of integers. Write a Python function to find the subarray within the array which has the maximum sum. The subarray should consist of at least one element.\n",
        "\n",
        "For example, consider the following array:\n",
        "\n",
        "\n",
        "```\n",
        "arr = [1, -2, 3, 4, -5, 8]\n",
        "\n",
        "```\n",
        "\n",
        "The subarray with the maximum sum is `[3, 4, -5, 8]`, which has a sum of 10.\n",
        "\n",
        "Write a Python function called max_subarray_sum(arr) that takes an array arr as input and returns the maximum sum of any subarray within the array.\n",
        "\n",
        "\n",
        "\n",
        "Additionally, find the time and space complexity of the code you have developed.\n"
      ],
      "metadata": {
        "id": "N3g94SatGH8b"
      }
    },
    {
      "cell_type": "code",
      "source": [
        "# Write your code here\n"
      ],
      "metadata": {
        "id": "odxF1v-dGHei"
      },
      "execution_count": null,
      "outputs": []
    },
    {
      "cell_type": "code",
      "source": [
        "# Example usage\n",
        "arr = [1, -2, 3, 4, -5, 8]\n",
        "print(max_subarray_sum(arr))"
      ],
      "metadata": {
        "id": "4MIc4382XFHD"
      },
      "execution_count": null,
      "outputs": []
    },
    {
      "cell_type": "markdown",
      "source": [
        "👉 **Instructions:**\n",
        "\n",
        "1. Define a function max_subarray_sum which will take an array as input.\n",
        "2. Then find the subarray within the array which has the maximum sum.\n",
        "3. Whenever the current sum exceeds the current maximum sum, we update the maximum sum and the indices of the subarray. \n",
        "4. Whenever the current sum becomes negative, we reset it to zero and update the starting index of the subarray to the next element. \n"
      ],
      "metadata": {
        "id": "V2knwsgdGxEn"
      }
    }
  ]
}