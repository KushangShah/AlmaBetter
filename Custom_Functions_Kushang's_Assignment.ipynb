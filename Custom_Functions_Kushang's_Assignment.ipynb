{
  "nbformat": 4,
  "nbformat_minor": 0,
  "metadata": {
    "colab": {
      "provenance": [],
      "include_colab_link": true
    },
    "kernelspec": {
      "name": "python3",
      "display_name": "Python 3"
    },
    "language_info": {
      "name": "python"
    }
  },
  "cells": [
    {
      "cell_type": "markdown",
      "metadata": {
        "id": "view-in-github",
        "colab_type": "text"
      },
      "source": [
        "<a href=\"https://colab.research.google.com/github/KushangShah/AlmaBetter_Assignment/blob/main/Custom_Functions_Kushang's_Assignment.ipynb\" target=\"_parent\"><img src=\"https://colab.research.google.com/assets/colab-badge.svg\" alt=\"Open In Colab\"/></a>"
      ]
    },
    {
      "cell_type": "markdown",
      "source": [
        "## 🎉 Welcome to today's assignment!\n",
        "\n",
        "Get ready to flex your coding muscles! Today's topic is custom functions in Python, and you'll have the opportunity to practice and apply what you've learned in the last lesson.\n",
        "\n",
        "💪📚 Let's see how far you've come in your Python journey! Get ready to write some custom functions and put your skills to the test.\n",
        "\n",
        "Good luck! 🍀🚀"
      ],
      "metadata": {
        "id": "oBDbvORc2ItD"
      }
    },
    {
      "cell_type": "markdown",
      "source": [
        "## **Activity 1:**"
      ],
      "metadata": {
        "id": "WvYidPE86eF2"
      }
    },
    {
      "cell_type": "markdown",
      "source": [
        "### **Building a Calculator**\n",
        "\n",
        "\n",
        "In this activity, we will create a custom function in Python to build a calculator that can perform basic arithmetic operations such as addition, subtraction, multiplication, and division. "
      ],
      "metadata": {
        "id": "5oJRi3Mv1MuD"
      }
    },
    {
      "cell_type": "markdown",
      "source": [
        "**💻 Code:**"
      ],
      "metadata": {
        "id": "etkfY4lA8iRg"
      }
    },
    {
      "cell_type": "code",
      "execution_count": 1,
      "metadata": {
        "id": "L5nnlASM1JfV"
      },
      "outputs": [],
      "source": [
        "# Define a function called calculator that takes three arguments: num1, num2, and operation\n",
        "def calculator(num1, num2, operation):\n",
        "\n",
        "# using if \n",
        "    if operation == '+':\n",
        "        return num1 + num2\n",
        "\n",
        "    elif operation == '-':\n",
        "        return num1 - num2\n",
        "\n",
        "    elif operation == '*':\n",
        "        return num1 * num2\n",
        "\n",
        "    elif operation == '/':\n",
        "        return num1 / num2\n",
        "\n",
        "# if user enter something invalid\n",
        "    else:\n",
        "        return \"Invalid operation\""
      ]
    },
    {
      "cell_type": "markdown",
      "source": [
        "**🧪 Test Code:**"
      ],
      "metadata": {
        "id": "OXMHdeOH9EuG"
      }
    },
    {
      "cell_type": "code",
      "source": [
        "# Test the calculator function\n",
        "result = calculator(5, 3, '+')\n",
        "print(\"After Addition\", result)\n",
        "print()\n",
        "result1 = calculator(10, 4, '-')\n",
        "print(\"After Subtraction\", result1)\n",
        "print()\n",
        "result2 = calculator(6, 2, '*')\n",
        "print(\"After Multiplication\", result2)\n",
        "print()\n",
        "result3 = calculator(15, 5, '/')\n",
        "print(\"After Division\", result3)\n",
        "print()\n",
        "result4 = calculator(8, 2, '%')\n",
        "print(\"After Modules\", result4)"
      ],
      "metadata": {
        "id": "woikfzcB1j-S",
        "colab": {
          "base_uri": "https://localhost:8080/"
        },
        "outputId": "1be28bbe-dae3-4646-89e7-9c2f2fe390c9"
      },
      "execution_count": 4,
      "outputs": [
        {
          "output_type": "stream",
          "name": "stdout",
          "text": [
            "After Addition 8\n",
            "\n",
            "After Subtraction 6\n",
            "\n",
            "After Multiplication 12\n",
            "\n",
            "After Division 3.0\n",
            "\n",
            "After Modules Invalid operation\n"
          ]
        }
      ]
    },
    {
      "cell_type": "markdown",
      "source": [
        "**Instructions:**\n",
        "\n",
        "1. Define a function called calculator that takes three arguments: num1, num2, and operation.\n",
        "2. In the function, use an if-else statement to determine the arithmetic operation to perform based on the value of operation.\n",
        "3. If operation is '+', return the sum of num1 and num2.\n",
        "4. If operation is '-', return the difference between num1 and num2.\n",
        "5. If operation is '*', return the product of num1 and num2.\n",
        "6. If operation is '/', return the quotient of num1 and num2.\n",
        "7. If operation is not one of the four valid arithmetic operations, return the string \"Invalid operation\".\n",
        "7. Test your function by calling it with different values for num1, num2, and operation."
      ],
      "metadata": {
        "id": "K8ncM2pa1Ttz"
      }
    },
    {
      "cell_type": "markdown",
      "source": [
        "## **Activity 2:**"
      ],
      "metadata": {
        "id": "iSX97-aS6s7W"
      }
    },
    {
      "cell_type": "markdown",
      "source": [
        "### **Dice Rolling** 🎲\n",
        "\n",
        "Roll a dice and display the result. 🎲"
      ],
      "metadata": {
        "id": "bFFQSaSN3ymq"
      }
    },
    {
      "cell_type": "markdown",
      "source": [
        "**What is the random module?**\n",
        "\n",
        "The random module is a built-in Python module that provides a suite of functions for generating random numbers and sequences. This module is often used in applications where randomization is important, such as games, simulations, and cryptography.\n",
        "\n",
        "You do not need to worry much about this as you will be learning about these modules and functions in the upcoming classes."
      ],
      "metadata": {
        "id": "dld5FXtd7AnL"
      }
    },
    {
      "cell_type": "markdown",
      "source": [
        "💻 Code:"
      ],
      "metadata": {
        "id": "sVfbV5jm8fyZ"
      }
    },
    {
      "cell_type": "code",
      "source": [
        "# Define a function for roll a dice\n",
        "import random\n",
        "\n",
        "def roll_dice():\n",
        "  num = random.randint(1,6)\n",
        "\n",
        "  return num"
      ],
      "metadata": {
        "id": "_e0xs5B63wYi"
      },
      "execution_count": 5,
      "outputs": []
    },
    {
      "cell_type": "markdown",
      "source": [
        "**🧪 Test Code:**"
      ],
      "metadata": {
        "id": "70zB8HPn9DXA"
      }
    },
    {
      "cell_type": "code",
      "source": [
        "# Roll the dice and print the result\n",
        "num = roll_dice()\n",
        "print(\"The rolled number is \", num, sep = \"\")"
      ],
      "metadata": {
        "id": "zbG-zj0g5VEZ",
        "colab": {
          "base_uri": "https://localhost:8080/"
        },
        "outputId": "f0c6af3c-573f-4c48-dc2a-0123b3e88bae"
      },
      "execution_count": 6,
      "outputs": [
        {
          "output_type": "stream",
          "name": "stdout",
          "text": [
            "The rolled number is 6\n"
          ]
        }
      ]
    },
    {
      "cell_type": "markdown",
      "source": [
        "**Instructions:**\n",
        "\n",
        "1. The random module shoud be imported to generate a random number for the dice roll.\n",
        "2. roll_dice() is defined as a custom function that generates a random number between 1 and 6.\n",
        "3. The function returns the result of the dice roll.\n",
        "4. The result variable is assigned to the return value of the roll_dice() function.\n",
        "5. The result is printed using a formatted string."
      ],
      "metadata": {
        "id": "opLb4qu54RU7"
      }
    },
    {
      "cell_type": "markdown",
      "source": [
        "## **Activity 3:**"
      ],
      "metadata": {
        "id": "zbXfyOni7JD1"
      }
    },
    {
      "cell_type": "markdown",
      "source": [
        "### **Celsius to Fahrenheit Converter**\n",
        "\n",
        "Create a custom function that takes in a temperature in Celsius and returns the temperature in Fahrenheit. \n",
        "\n",
        "**For example**: If the input temperature is 20 degrees Celsius, the output temperature should be 68 degrees Fahrenheit.\n"
      ],
      "metadata": {
        "id": "XB3M38js4r8r"
      }
    },
    {
      "cell_type": "markdown",
      "source": [
        "💻 Code:"
      ],
      "metadata": {
        "id": "LVMw5sDQ8elX"
      }
    },
    {
      "cell_type": "code",
      "source": [
        "# Define a function to convert celsius to fahrenheit\n",
        "def celsius_2_fahrenheit(celsius):\n",
        "  f = (celsius*1.8) + 32\n",
        "  return f"
      ],
      "metadata": {
        "id": "AG3AA-1n4p5r"
      },
      "execution_count": 10,
      "outputs": []
    },
    {
      "cell_type": "markdown",
      "source": [
        "**🧪 Test Code:**"
      ],
      "metadata": {
        "id": "KDtKd97y9CSH"
      }
    },
    {
      "cell_type": "code",
      "source": [
        "temp = float(input(\"Enter the temprature in Clesius(°C) here: \"))\n",
        "\n",
        "print(\"The temprature is:\", celsius_2_fahrenheit(temp), \"Fahremheit(°F)\")\n",
        "\n",
        "# Just for fun-!\n",
        "if temp <= 0:\n",
        "  print(\"It's cold\")\n",
        "\n",
        "elif temp >= 20 and temp <= 30:\n",
        "  print(\"Nor to hot nor to cold.\")\n",
        "\n",
        "elif temp > 30 and temp <= 45:\n",
        "  print(\"It's hot\")\n",
        "\n",
        "elif temp > 1e2:\n",
        "  print(\"you Goddam kidding me!?\")\n",
        "  \n",
        "\n"
      ],
      "metadata": {
        "id": "T_sVClYZ5LT6",
        "colab": {
          "base_uri": "https://localhost:8080/"
        },
        "outputId": "9a3bd56e-f5a9-4515-a7e5-1da2ee4b5efe"
      },
      "execution_count": 25,
      "outputs": [
        {
          "output_type": "stream",
          "name": "stdout",
          "text": [
            "Enter the temprature in Clesius(°C) here: 20\n",
            "The temprature is: 68.0 Fahremheit(°F)\n",
            "Nor to hot nor to cold.\n"
          ]
        }
      ]
    },
    {
      "cell_type": "markdown",
      "source": [
        "Output:\n",
        "\n",
        "If the input temperature is 20 degrees Celsius, the output temperature should be 68 degrees Fahrenheit."
      ],
      "metadata": {
        "id": "grA9fcVA5EDC"
      }
    },
    {
      "cell_type": "markdown",
      "source": [
        "**Instructions:**\n",
        "\n",
        "To create this function, you can use the formula to convert the temperature in Celsius to Fahrenheit. The formula for converting Celsius to Fahrenheit is F = (C * 9/5) + 32, where F is the temperature in Fahrenheit and C is the temperature in Celsius."
      ],
      "metadata": {
        "id": "Iz8PDswd5Of5"
      }
    },
    {
      "cell_type": "markdown",
      "source": [
        "## **Activity 4:**"
      ],
      "metadata": {
        "id": "IHcWOlKm7V8A"
      }
    },
    {
      "cell_type": "markdown",
      "source": [
        "### **Sum odd Numbers** ➖\n",
        "\n",
        "In this activity, you will create a custom function in Python that takes a list of integers as an argument and returns the sum of all odd numbers in the list."
      ],
      "metadata": {
        "id": "f38kTkX-6DR4"
      }
    },
    {
      "cell_type": "markdown",
      "source": [
        "💻 Code:"
      ],
      "metadata": {
        "id": "_M8e-8p36M1J"
      }
    },
    {
      "cell_type": "code",
      "source": [
        "# define sum_odd custom function\n",
        "#lst = []\n",
        "def add_odd(lst):\n",
        "    ans = 0  \n",
        "    for num in lst:\n",
        "        if num % 2 != 0: \n",
        "            ans += num  \n",
        "    return ans\n",
        "\n",
        "\n"
      ],
      "metadata": {
        "id": "BfJMZFk75GP3"
      },
      "execution_count": 65,
      "outputs": []
    },
    {
      "cell_type": "markdown",
      "source": [
        "**🧪 Test Code:**"
      ],
      "metadata": {
        "id": "6UGSjTv75-Qw"
      }
    },
    {
      "cell_type": "code",
      "source": [
        "# test here\n",
        "numbers = eval(input(\"Enter list of number here: \"))\n",
        "result = add_odd(numbers)\n",
        "print(\"The sum of odd numbers is from the given list is:\", result)\n",
        "#print(\"The sum of odd in the given list is:\", add_odd(lst))"
      ],
      "metadata": {
        "id": "7yyxAwOY5_fS",
        "colab": {
          "base_uri": "https://localhost:8080/"
        },
        "outputId": "cfee3a7f-15aa-4bcc-eb52-2c0ec62c582f"
      },
      "execution_count": 64,
      "outputs": [
        {
          "output_type": "stream",
          "name": "stdout",
          "text": [
            "Enter list of number here: 1, 2, 3, 4, 5, 6\n",
            "The sum of odd numbers is from the given list is: 9\n"
          ]
        }
      ]
    },
    {
      "cell_type": "markdown",
      "source": [
        "🤖 Output should be in format:\n",
        "\n",
        "If the input is [1, 2, 3, 4, 5, 6], then the output should be 9"
      ],
      "metadata": {
        "id": "Pc5U7agP6_uJ"
      }
    },
    {
      "cell_type": "markdown",
      "source": [
        "**Instructions:**\n",
        "\n",
        "To create the sum_odd function, follow these steps:\n",
        "\n",
        "1. Define a function named sum_odd that takes one argument, lst.\n",
        "2. Inside the function, create a variable named result and set its value to 0.\n",
        "3. Use a for loop to iterate through each element in lst.\n",
        "4. For each element, check if it is odd by using the modulus operator (%). If the result not is 0, add the element to result.\n",
        "5. After the loop, return result."
      ],
      "metadata": {
        "id": "NJFkJnem6Yyq"
      }
    }
  ]
}