{
  "nbformat": 4,
  "nbformat_minor": 0,
  "metadata": {
    "colab": {
      "provenance": [],
      "include_colab_link": true
    },
    "kernelspec": {
      "name": "python3",
      "display_name": "Python 3"
    },
    "language_info": {
      "name": "python"
    }
  },
  "cells": [
    {
      "cell_type": "markdown",
      "metadata": {
        "id": "view-in-github",
        "colab_type": "text"
      },
      "source": [
        "<a href=\"https://colab.research.google.com/github/KushangShah/AlmaBetter_Assignment/blob/main/OOPs_in_Python_Kushang's_Assignment_Hint.ipynb\" target=\"_parent\"><img src=\"https://colab.research.google.com/assets/colab-badge.svg\" alt=\"Open In Colab\"/></a>"
      ]
    },
    {
      "cell_type": "markdown",
      "source": [
        "##👋 Welcome to today's assignment!\n",
        "\n",
        "Are you ready to put your Object-Oriented Programming (OOPs) skills in Python to the test? With the knowledge you've gained in the last lesson, you'll breeze through this assignment!\n",
        "\n",
        "💪📚 Show us what you've got and let's see how far you've come in your learning journey.\n",
        "\n",
        "Good luck! 🍀🚀"
      ],
      "metadata": {
        "id": "PpTVNfnjw-cR"
      }
    },
    {
      "cell_type": "markdown",
      "source": [
        "🎓👨‍🎓👩‍🎓 Remember, mastering the concept of classes takes time, but don't worry! 💪🏼 If you've understood classes, methods, objects, and attributes, you're already 90% of the way there! 🙌🏼\n",
        "\n",
        "🧐 However, polymorphism and inheritance can be a bit more challenging to grasp. Don't get discouraged if you don't understand them right away! 🤔 It's completely normal, and it may take some time to truly master these concepts.\n",
        "\n",
        "🤓 Just remember that you can always go back and review the material, ask for help, or try some practice exercises. 📚👨‍🏫 You got this! 🚀\n",
        "\n",
        "That's why we have provided the Hint Material as Assignment and Actual SOlution as Hint, which you will get after submitting your Assignment."
      ],
      "metadata": {
        "id": "_uXUN6cWdqOj"
      }
    },
    {
      "cell_type": "markdown",
      "source": [
        "## **Activity 1:**"
      ],
      "metadata": {
        "id": "3p84Bm0S2QZa"
      }
    },
    {
      "cell_type": "markdown",
      "source": [
        "### **Building a Simple Calculator** 🧮🔢\n",
        "\n",
        "\n",
        "In this activity, you will build a simple calculator program in Python using Object-Oriented Programming (OOP) concepts."
      ],
      "metadata": {
        "id": "wi0GGVc-l-iH"
      }
    },
    {
      "cell_type": "code",
      "source": [
        "class calci:\n",
        "    \"\"\"A simple calculator class\"\"\"\n",
        "\n",
        "    def __init__(self):\n",
        "      self.result = 0\n",
        "    \n",
        "    def add(self, num1, num2):\n",
        "        \"\"\"Adds two numbers and returns the result\"\"\"\n",
        "        self.result = num1 + num2\n",
        "        return self.result\n",
        "    \n",
        "    def sub(self, num1, num2):\n",
        "        \"\"\"Subtracts two numbers and returns the result\"\"\"\n",
        "        self.result = num1 - num2\n",
        "        return self.result\n",
        "    \n",
        "    def mul(self, num1, num2):\n",
        "        \"\"\"Multiplies two numbers and returns the result\"\"\"\n",
        "        self.result = num1 * num2\n",
        "        return self.result\n",
        "    \n",
        "    def div(self, num1, num2):\n",
        "        \"\"\"Divides two numbers and returns the result\"\"\"\n",
        "        if num2 == 0:\n",
        "            raise ValueError(\"Cannot divide with zero\")\n",
        "            #print(\"Cannot divide it with zero\")\n",
        "        self.result = num1 / num2\n",
        "        return self.result"
      ],
      "metadata": {
        "id": "zphxebyom5IQ"
      },
      "execution_count": 1,
      "outputs": []
    },
    {
      "cell_type": "code",
      "source": [
        "# Test Case\n",
        "calcu = calci()\n",
        "\n",
        "a = calcu.add(2, 3)\n",
        "s = calcu.sub(9, 5)\n",
        "m = calcu.mul(5, 9)\n",
        "#d = calcu.div(2, 0)\n",
        "d_1 = calcu.div(9, 3)\n",
        "\n",
        "print(\"add - \", a)\n",
        "print(\"add - \", s)\n",
        "print(\"add - \", m)\n",
        "#print(\"add - \", d)\n",
        "print(\"add - \", d_1)"
      ],
      "metadata": {
        "id": "rKnQSAlpsdx0",
        "colab": {
          "base_uri": "https://localhost:8080/"
        },
        "outputId": "c098e24b-f86a-451a-e1ae-7ee837067c36"
      },
      "execution_count": 2,
      "outputs": [
        {
          "output_type": "stream",
          "name": "stdout",
          "text": [
            "add -  5\n",
            "add -  4\n",
            "add -  45\n",
            "add -  3.0\n"
          ]
        }
      ]
    },
    {
      "cell_type": "markdown",
      "source": [
        "## **Activity 2:**"
      ],
      "metadata": {
        "id": "XR1w5int3DH8"
      }
    },
    {
      "cell_type": "markdown",
      "source": [
        "### 🏀 **Basketball Game Score Tracker** 📈\n",
        "\n",
        "Create a class that will keep track of the score of a basketball game. The class should have methods for updating the score and printing the current score."
      ],
      "metadata": {
        "id": "3IigXP8Ir4Yq"
      }
    },
    {
      "cell_type": "code",
      "source": [
        "# Define a class BasketBallGame\n",
        "class BasketBallGame:\n",
        "    # Initialize score to 0 for both teams\n",
        "    def __init__(self):\n",
        "        self.team_A = 0\n",
        "        self.team_B = 0\n",
        "\n",
        "    # Update the score for team A\n",
        "    def score_a(self, points):\n",
        "        self.team_A += points\n",
        "\n",
        "    # Update the score for team B\n",
        "    def score_b(self, points):\n",
        "        self.team_B += points\n",
        "\n",
        "    # Print the current score\n",
        "    def current_score(self):\n",
        "        print(\"Team A:\", self.team_A)\n",
        "        print(\"Team B:\", self.team_B)"
      ],
      "metadata": {
        "id": "op236YgFsjA7"
      },
      "execution_count": 10,
      "outputs": []
    },
    {
      "cell_type": "code",
      "source": [
        "# Example Usage:\n",
        "# You can add your own examples to test the code even\n",
        "\n",
        "# Create a new game object\n",
        "game = BasketBallGame()\n",
        "\n",
        "# Update the score for team A\n",
        "game.score_a(2)\n",
        "game.score_a(3)\n",
        "\n",
        "# Update the score for team B\n",
        "game.score_b(2)\n",
        "\n",
        "# Print the current score\n",
        "game.current_score()"
      ],
      "metadata": {
        "id": "KSatdMIbsuI7",
        "colab": {
          "base_uri": "https://localhost:8080/"
        },
        "outputId": "5e90c7c7-ef66-4cd0-b2a5-70c30dd63be9"
      },
      "execution_count": 11,
      "outputs": [
        {
          "output_type": "stream",
          "name": "stdout",
          "text": [
            "Team A: 5\n",
            "Team B: 2\n"
          ]
        }
      ]
    },
    {
      "cell_type": "markdown",
      "source": [
        "## **Activity 3:**"
      ],
      "metadata": {
        "id": "GEGU0Xo831fy"
      }
    },
    {
      "cell_type": "markdown",
      "source": [
        "### 🎨 **Paint Brush Class** 🖌️\n",
        "\n",
        "Create a Python class for a paint brush that has the following properties:\n",
        "\n",
        "* Size (small, medium, or large)\n",
        "* Color (red, blue, green, or yellow)\n",
        "* Brand (Winsor & Newton, Liquitex, or Grumbacher)\n",
        "* Type (round or flat)\n"
      ],
      "metadata": {
        "id": "VwvhqW59s8-7"
      }
    },
    {
      "cell_type": "code",
      "source": [
        "# Define PaintBrush Class\n",
        "class PaintBrush:\n",
        "    def __init__(self, size, colour, brand, Type):\n",
        "        self.size = size\n",
        "        self.colour = colour\n",
        "        self.brand = brand \n",
        "        self.Type = Type \n",
        "    \n",
        "    def paint(self):\n",
        "        print(\"Painting with a {0} {1} {2} {3} brush\".format(self.size, self.colour, self.brand, self.Type))"
      ],
      "metadata": {
        "id": "YZ8JOqPotDM7"
      },
      "execution_count": 12,
      "outputs": []
    },
    {
      "cell_type": "markdown",
      "source": [
        "Now, create an instance of the PaintBrush class with the following properties:\n",
        "\n",
        "* Size: medium\n",
        "* Color: red\n",
        "* Brand: Winsor & Newton\n",
        "* Type: round\n",
        "* Call the paint() method on the instance to simulate painting with the brush."
      ],
      "metadata": {
        "id": "XA4HMkLatMrq"
      }
    },
    {
      "cell_type": "code",
      "source": [
        "# Test Case\n",
        "# Create an instance of PaintBrush\n",
        "brush = PaintBrush(\"medium\", \"red\", \"Winsor & Newton\", \"round\")\n",
        "\n",
        "# Call the paint() method on the instance\n",
        "brush.paint()"
      ],
      "metadata": {
        "id": "jMo7hRI4tQhU",
        "colab": {
          "base_uri": "https://localhost:8080/"
        },
        "outputId": "739b11e2-8de7-4342-b506-a99a5b409188"
      },
      "execution_count": 13,
      "outputs": [
        {
          "output_type": "stream",
          "name": "stdout",
          "text": [
            "Painting with a medium red Winsor & Newton round brush\n"
          ]
        }
      ]
    },
    {
      "cell_type": "markdown",
      "source": [
        "## **Activity 4:**"
      ],
      "metadata": {
        "id": "E792qPXJ4too"
      }
    },
    {
      "cell_type": "markdown",
      "source": [
        "### **Bank Account Management System** 💻🏦\n",
        "\n",
        "Create a Bank Account Management System using Object-Oriented Programming (OOPs) in Python. The system should allow users to create and manage bank accounts, deposit and withdraw funds, and view account details."
      ],
      "metadata": {
        "id": "ARKS5oEitsVt"
      }
    },
    {
      "cell_type": "code",
      "source": [
        "# Define a BankAccount class\n",
        "class ____________:\n",
        "    \n",
        "    # Constructor to initialize account details\n",
        "    def __init__(self, _____, ________, _______):\n",
        "        self._____ = _____\n",
        "        self._______ = _______\n",
        "        self._______ = _______\n",
        "        \n",
        "    # Method to deposit funds into the account\n",
        "    def _______(self, ______):\n",
        "        self.balance += ______\n",
        "        print(\"Deposit successful. Your new balance is:\", self.balance)\n",
        "        \n",
        "    # Method to withdraw funds from the account\n",
        "    def _______(self, ______):\n",
        "        if _______ <= self.balance:\n",
        "            self.balance -= _______\n",
        "            print(\"Withdrawal successful. Your new balance is:\", self.balance)\n",
        "        else:\n",
        "            print(\"Insufficient balance. Your current balance is:\", self.balance)\n",
        "            \n",
        "    # Method to view account details\n",
        "    def _________(self):\n",
        "        print(\"Name:\", self.____)\n",
        "        print(\"Account Number:\", self._______)\n",
        "        print(\"Balance:\", self._______)"
      ],
      "metadata": {
        "id": "J3WL7qYjvIml"
      },
      "execution_count": null,
      "outputs": []
    },
    {
      "cell_type": "code",
      "source": [
        "# Test Case\n",
        "\n",
        "# Create a new bank account\n",
        "account1 = BankAccount(\"John Doe\", \"1234567890\", 1000)\n",
        "\n",
        "# Test deposit method\n",
        "account1.deposit(500)\n",
        "\n",
        "# Test withdraw method\n",
        "account1.withdraw(2000)\n",
        "\n",
        "# Test account details method\n",
        "account1.account_details()"
      ],
      "metadata": {
        "id": "mihs9I58w0AB"
      },
      "execution_count": null,
      "outputs": []
    }
  ]
}